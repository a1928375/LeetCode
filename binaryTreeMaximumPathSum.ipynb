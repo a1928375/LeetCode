{
 "cells": [
  {
   "cell_type": "markdown",
   "metadata": {},
   "source": [
    "# Binary Tree Maximum Path Sum"
   ]
  },
  {
   "cell_type": "code",
   "execution_count": 1,
   "metadata": {},
   "outputs": [
    {
     "name": "stdout",
     "output_type": "stream",
     "text": [
      "42\n"
     ]
    }
   ],
   "source": [
    "class Node: \n",
    "\n",
    "    def __init__(self, value): \n",
    "        \n",
    "        self.value = value \n",
    "        self.left = None\n",
    "        self.right = None\n",
    "\n",
    "def findMaxUtil(root): \n",
    "\n",
    "    if root is None: \n",
    "        return 0 \n",
    "\n",
    "    left = findMaxUtil(root.left) \n",
    "    right = findMaxUtil(root.right) \n",
    "\n",
    "    max_single = max(max(left, right) + root.value, root.value) \n",
    "\n",
    "    max_top = max(max_single, left + right + root.value) \n",
    "\n",
    "    findMaxUtil.res = max(findMaxUtil.res, max_top)  # 更新 findMaxUtil.res\n",
    "  \n",
    "    return max_single         # return max_single是為了     return出單邊總和   for l or r\n",
    "\n",
    "def binaryTreeMaximumPathSum(root): \n",
    "\n",
    "    findMaxUtil.res = float(\"-inf\")    #用-inf代表最小值\n",
    "\n",
    "    findMaxUtil(root) \n",
    "    \n",
    "    return findMaxUtil.res  #最後是return  findMaxUtil.res\n",
    "  \n",
    "root = Node(10) \n",
    "root.left = Node(2) \n",
    "root.right   = Node(10)\n",
    "root.left.left  = Node(20)\n",
    "root.left.right = Node(1)\n",
    "root.right.right = Node(-25)\n",
    "root.right.right.left   = Node(3)\n",
    "root.right.right.right  = Node(4)\n",
    "\n",
    "print (binaryTreeMaximumPathSum(root))"
   ]
  }
 ],
 "metadata": {
  "kernelspec": {
   "display_name": "Python 3",
   "language": "python",
   "name": "python3"
  },
  "language_info": {
   "codemirror_mode": {
    "name": "ipython",
    "version": 3
   },
   "file_extension": ".py",
   "mimetype": "text/x-python",
   "name": "python",
   "nbconvert_exporter": "python",
   "pygments_lexer": "ipython3",
   "version": "3.7.6"
  }
 },
 "nbformat": 4,
 "nbformat_minor": 4
}
