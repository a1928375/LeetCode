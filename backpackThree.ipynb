{
 "cells": [
  {
   "cell_type": "markdown",
   "metadata": {},
   "source": [
    "# 2-dimension"
   ]
  },
  {
   "cell_type": "code",
   "execution_count": 4,
   "metadata": {},
   "outputs": [
    {
     "name": "stdout",
     "output_type": "stream",
     "text": [
      "15\n",
      "15\n",
      "20\n",
      "15\n"
     ]
    }
   ],
   "source": [
    "def backpackThree(size, val, total):\n",
    "    \n",
    "    # result[i][j] 為  size的前i個物品 填入 total為j的被包時 最大允許總價值 (可重覆)\n",
    "    \n",
    "    if size == None or size == [] or val == None or val == [] or len(size) != len(val) or total <= 0:\n",
    "        \n",
    "        return 0\n",
    "    \n",
    "    result = [[0 for _ in range(total + 1)] for _ in range(len(size) + 1)]\n",
    "    \n",
    "    for i in range(1, len(size) + 1):\n",
    "        \n",
    "        for j in range(1, total + 1):\n",
    "            \n",
    "            if j < size[i - 1]:                  #不取 list1[i - 1] (t < list1[i - 1] -> 因為 target < 愈加的物品)，直接往上看 \n",
    "                                                 # -> result[i - 1][j]\n",
    "                \n",
    "                result[i][j] = result[i - 1][j]\n",
    "                \n",
    "            else:\n",
    "                \n",
    "                result[i][j] = max(result[i - 1][j], result[i][j - size[i - 1]] + val[i - 1])\n",
    "                                        #a                           #b\n",
    "                \n",
    "                # a: 不放第i件物品 (i - 1) -> 直接看上一層 \n",
    "                # b: 放第i件物品 -> 放完第i件物品，再看是否可以再放入 第i件 物品 -> \"同一層\"，然後j要把第i件物品的重量扣掉\n",
    "                \n",
    "    return result[-1][-1]\n",
    "\n",
    "print (backpackThree([2,3,5,7], [1,5,2,4], 10))\n",
    "print (backpackThree([2,3,5], [1,5,2], 10))\n",
    "print (backpackThree([1,2,3], [1,5,2], 8))\n",
    "print (backpackThree([1,2,3], [1,5,2], 6))"
   ]
  },
  {
   "cell_type": "markdown",
   "metadata": {},
   "source": [
    "# 1-dimension"
   ]
  },
  {
   "cell_type": "code",
   "execution_count": 5,
   "metadata": {},
   "outputs": [
    {
     "name": "stdout",
     "output_type": "stream",
     "text": [
      "25\n",
      "15\n",
      "20\n",
      "15\n"
     ]
    }
   ],
   "source": [
    "def backpackThree1(total, size, val):\n",
    "    \n",
    "    # result[j] 代表為j的背包 放入size中前i個物品時的 可允許的最大價值 (可重覆)\n",
    "    \n",
    "    if total == 0 or size == [] or val == []:\n",
    "        \n",
    "        return 0\n",
    "    \n",
    "    result = [0 for _ in range(total + 1)]\n",
    "    \n",
    "    for i in range(1, len(size) + 1):\n",
    "        \n",
    "        for j in range(1, total + 1):                       #不是倒著走 -> 越小的越先被updated -> 一直加總 -> 可重覆\n",
    "            \n",
    "            if j >= size[i - 1]:\n",
    "                \n",
    "                result[j] = max(result[j], result[j - size[i - 1]] + val[i - 1])\n",
    "                \n",
    "    return result[-1]\n",
    "\n",
    "print (backpackThree1(15, [2,3,5,7], [1,5,2,4]))\n",
    "print (backpackThree1(10, [2,3,5], [1,5,2]))\n",
    "print (backpackThree1(8, [1,2,3], [1,5,2]))\n",
    "print (backpackThree1(6, [1,2,3], [1,5,2]))"
   ]
  }
 ],
 "metadata": {
  "kernelspec": {
   "display_name": "Python 3",
   "language": "python",
   "name": "python3"
  },
  "language_info": {
   "codemirror_mode": {
    "name": "ipython",
    "version": 3
   },
   "file_extension": ".py",
   "mimetype": "text/x-python",
   "name": "python",
   "nbconvert_exporter": "python",
   "pygments_lexer": "ipython3",
   "version": "3.7.6"
  }
 },
 "nbformat": 4,
 "nbformat_minor": 4
}
