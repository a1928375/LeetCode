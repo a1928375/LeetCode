{
 "cells": [
  {
   "cell_type": "markdown",
   "metadata": {},
   "source": [
    "# maximum subarray"
   ]
  },
  {
   "cell_type": "code",
   "execution_count": 8,
   "metadata": {},
   "outputs": [
    {
     "name": "stdout",
     "output_type": "stream",
     "text": [
      "4\n",
      "6\n"
     ]
    }
   ],
   "source": [
    "def maximumSubarray(list1):\n",
    "    \n",
    "    if list1 == None or list1 == []:\n",
    "        \n",
    "        return None\n",
    "    \n",
    "    elif len(list1) == 1:\n",
    "        \n",
    "        return list1[0]\n",
    "    \n",
    "    maxAns, temp = float(\"-inf\"), 0\n",
    "    \n",
    "    for i in range(len(list1)):\n",
    "        \n",
    "        temp += list1[i]              # 2 variables with 3 steps\n",
    "        \n",
    "        maxAns = max(maxAns, temp)\n",
    "        \n",
    "        temp = max(temp,0)             #用0來隔斷 -> clever\n",
    "        \n",
    "    return maxAns\n",
    "\n",
    "print (maximumSubarray([-2,2,-3,4]))\n",
    "print (maximumSubarray([-2,2,-3,4,-1,2,1,-5,3]))"
   ]
  }
 ],
 "metadata": {
  "kernelspec": {
   "display_name": "Python 3",
   "language": "python",
   "name": "python3"
  },
  "language_info": {
   "codemirror_mode": {
    "name": "ipython",
    "version": 3
   },
   "file_extension": ".py",
   "mimetype": "text/x-python",
   "name": "python",
   "nbconvert_exporter": "python",
   "pygments_lexer": "ipython3",
   "version": "3.7.6"
  }
 },
 "nbformat": 4,
 "nbformat_minor": 4
}
