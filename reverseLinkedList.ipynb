{
 "cells": [
  {
   "cell_type": "markdown",
   "metadata": {},
   "source": [
    "# reverse linked list"
   ]
  },
  {
   "cell_type": "code",
   "execution_count": 5,
   "metadata": {},
   "outputs": [
    {
     "name": "stdout",
     "output_type": "stream",
     "text": [
      "<__main__.ListNode object at 0x000002001BF3DD48>\n"
     ]
    }
   ],
   "source": [
    "class ListNode:\n",
    "    \n",
    "    def __init__ (self, val = 0, next = None):\n",
    "        \n",
    "        self.val = val\n",
    "        self.next = next\n",
    "        \n",
    "def reverseLinkedList(head):\n",
    "    \n",
    "    if head == None or head.next == None:\n",
    "        \n",
    "        return head\n",
    "    \n",
    "    pre = None\n",
    "    \n",
    "    while (head):                      #直接用head來iterate 因為最後是  return pre\n",
    "        \n",
    "        temp = head.next               # like numbers swapping -> 3 variables & 4 steps \n",
    "        \n",
    "        head.next = pre\n",
    "        \n",
    "        pre = head\n",
    "        \n",
    "        head = temp\n",
    "        \n",
    "    return pre\n",
    "\n",
    "node = ListNode(1)\n",
    "node.next = ListNode(2)\n",
    "node.next.next = ListNode(3)\n",
    "node.next.next.next = ListNode(4)\n",
    "node.next.next.next.next = ListNode(5)\n",
    "\n",
    "print (reverseLinkedList(node))"
   ]
  }
 ],
 "metadata": {
  "kernelspec": {
   "display_name": "Python 3",
   "language": "python",
   "name": "python3"
  },
  "language_info": {
   "codemirror_mode": {
    "name": "ipython",
    "version": 3
   },
   "file_extension": ".py",
   "mimetype": "text/x-python",
   "name": "python",
   "nbconvert_exporter": "python",
   "pygments_lexer": "ipython3",
   "version": "3.7.6"
  }
 },
 "nbformat": 4,
 "nbformat_minor": 4
}
