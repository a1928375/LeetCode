{
 "cells": [
  {
   "cell_type": "markdown",
   "metadata": {},
   "source": [
    "# use deque to implement queue"
   ]
  },
  {
   "cell_type": "code",
   "execution_count": 1,
   "metadata": {},
   "outputs": [
    {
     "name": "stdout",
     "output_type": "stream",
     "text": [
      "[[1], [2, 3], [4, 5, 6, 7]]\n"
     ]
    }
   ],
   "source": [
    "from collections import deque\n",
    "\n",
    "class Node:\n",
    "    \n",
    "    def __init__(self, value): \n",
    "        \n",
    "        self.value =  value \n",
    "        self.left = None\n",
    "        self.right = None\n",
    "        self.parent = None\n",
    "\n",
    "def levelOrder(root):\n",
    "    \n",
    "    if root is None:\n",
    "        \n",
    "        return []\n",
    "            \n",
    "    queue = deque([root])      #注意，是[root]\n",
    "    \n",
    "    result = []\n",
    "    \n",
    "    while queue:\n",
    "            \n",
    "        level = []\n",
    "        \n",
    "        for _ in range(len(queue)):\n",
    "            \n",
    "            node = queue.popleft()\n",
    "            \n",
    "            level.append(node.value)\n",
    "                \n",
    "            if node.left:\n",
    "                \n",
    "                queue.append(node.left)\n",
    "                \n",
    "            if node.right:\n",
    "                \n",
    "                queue.append(node.right)\n",
    "                    \n",
    "        result.append(level)\n",
    "    \n",
    "    return result\n",
    "\n",
    "root = Node(1)\n",
    "root.left = Node(2)\n",
    "root.right = Node(3)\n",
    "root.left.left = Node(4)\n",
    "root.left.right = Node(5)\n",
    "root.right.left = Node(6)\n",
    "root.right.right = Node(7)\n",
    "\n",
    "print (levelOrder(root))"
   ]
  },
  {
   "cell_type": "markdown",
   "metadata": {},
   "source": [
    "# use Queue to implement queue"
   ]
  },
  {
   "cell_type": "code",
   "execution_count": 1,
   "metadata": {},
   "outputs": [
    {
     "name": "stdout",
     "output_type": "stream",
     "text": [
      "[[1], [2, 3], [4, 5, 6, 7]]\n"
     ]
    }
   ],
   "source": [
    "from queue import Queue\n",
    "\n",
    "class Node:\n",
    "    \n",
    "    def __init__(self, value): \n",
    "        \n",
    "        self.value =  value \n",
    "        self.left = None\n",
    "        self.right = None\n",
    "        self.parent = None\n",
    "\n",
    "def levelOrder1(root):\n",
    "    \n",
    "    if root is None:\n",
    "        \n",
    "        return []\n",
    "            \n",
    "    queue = Queue(maxsize=1000)\n",
    "    \n",
    "    queue.put(root)\n",
    "    \n",
    "    result = []\n",
    "    \n",
    "    while queue.qsize() > 0:\n",
    "            \n",
    "        level = []\n",
    "        \n",
    "        for _ in range(queue.qsize()):\n",
    "            \n",
    "            node = queue.get()\n",
    "            \n",
    "            level.append(node.value)\n",
    "                \n",
    "            if node.left:\n",
    "                \n",
    "                queue.put(node.left)\n",
    "                \n",
    "            if node.right:\n",
    "                \n",
    "                queue.put(node.right)\n",
    "                    \n",
    "        result.append(level)\n",
    "    \n",
    "    return result\n",
    "\n",
    "root = Node(1)\n",
    "root.left = Node(2)\n",
    "root.right = Node(3)\n",
    "root.left.left = Node(4)\n",
    "root.left.right = Node(5)\n",
    "root.right.left = Node(6)\n",
    "root.right.right = Node(7)\n",
    "\n",
    "print (levelOrder1(root))"
   ]
  }
 ],
 "metadata": {
  "kernelspec": {
   "display_name": "Python 3",
   "language": "python",
   "name": "python3"
  },
  "language_info": {
   "codemirror_mode": {
    "name": "ipython",
    "version": 3
   },
   "file_extension": ".py",
   "mimetype": "text/x-python",
   "name": "python",
   "nbconvert_exporter": "python",
   "pygments_lexer": "ipython3",
   "version": "3.7.6"
  }
 },
 "nbformat": 4,
 "nbformat_minor": 4
}
