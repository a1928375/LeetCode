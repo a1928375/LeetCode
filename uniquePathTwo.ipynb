{
 "cells": [
  {
   "cell_type": "markdown",
   "metadata": {},
   "source": [
    "# Unique Path Two"
   ]
  },
  {
   "cell_type": "code",
   "execution_count": 5,
   "metadata": {},
   "outputs": [
    {
     "name": "stdout",
     "output_type": "stream",
     "text": [
      "2\n",
      "0\n"
     ]
    }
   ],
   "source": [
    "def uniquePathTwo(list1):\n",
    "    \n",
    "    #[0,0,0]\n",
    "    #[0,1,0]\n",
    "    #[0,0,0]\n",
    "    \n",
    "    if list1 == None or list1 == []:\n",
    "        \n",
    "        return -1\n",
    "    \n",
    "#     elif len(list1) == 1 or len(list1[0]) == 1:  => 不可以有此判斷式 => Ex: [[1]]\n",
    "        \n",
    "#         return 1\n",
    "    \n",
    "    result = [[0 for _ in range(len(list1[0]))] for _ in range(len(list1))]\n",
    "    \n",
    "    if list1[0][0] != 1:\n",
    "        \n",
    "        result[0][0] = 1\n",
    "    \n",
    "    for i in range(1, len(list1)):\n",
    "        \n",
    "        if result[i - 1][0] and list1[i][0] != 1:\n",
    "\n",
    "            result[i][0] = 1\n",
    "            \n",
    "        else:\n",
    "            \n",
    "            result[i][0] = 0\n",
    "            \n",
    "    for i in range(1, len(list1[0])):\n",
    "        \n",
    "        if result[0][i - 1] != 0 and list1[0][i] != 1:\n",
    "            \n",
    "            result[0][i] = 1\n",
    "        \n",
    "        else:\n",
    "            \n",
    "            result[0][i] = 0\n",
    "            \n",
    "    for i in range(1, len(list1)):\n",
    "        \n",
    "        for j in range(1, len(list1[0])):\n",
    "            \n",
    "            if list1[i][j] != 1:\n",
    "                \n",
    "                result[i][j] = result[i - 1][j] + result[i][j - 1]\n",
    "                \n",
    "    return result[-1][-1]\n",
    "\n",
    "print (uniquePathTwo([[0,0,0],[0,1,0],[0,0,0]]))\n",
    "\n",
    "print (uniquePathTwo([[1]]))"
   ]
  },
  {
   "cell_type": "code",
   "execution_count": null,
   "metadata": {},
   "outputs": [],
   "source": []
  }
 ],
 "metadata": {
  "kernelspec": {
   "display_name": "Python 3",
   "language": "python",
   "name": "python3"
  },
  "language_info": {
   "codemirror_mode": {
    "name": "ipython",
    "version": 3
   },
   "file_extension": ".py",
   "mimetype": "text/x-python",
   "name": "python",
   "nbconvert_exporter": "python",
   "pygments_lexer": "ipython3",
   "version": "3.7.6"
  }
 },
 "nbformat": 4,
 "nbformat_minor": 4
}
