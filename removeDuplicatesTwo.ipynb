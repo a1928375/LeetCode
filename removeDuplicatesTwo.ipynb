{
 "cells": [
  {
   "cell_type": "markdown",
   "metadata": {},
   "source": [
    "# remove duplicates two"
   ]
  },
  {
   "cell_type": "code",
   "execution_count": 4,
   "metadata": {},
   "outputs": [
    {
     "name": "stdout",
     "output_type": "stream",
     "text": [
      "<__main__.ListNode object at 0x0000026A1EEF1D48>\n",
      "<__main__.ListNode object at 0x0000026A1EEE7A88>\n"
     ]
    }
   ],
   "source": [
    "class ListNode:\n",
    "    \n",
    "    def __init__(self, val = 0, next = None):\n",
    "        \n",
    "        self.val = val\n",
    "        self.next = next\n",
    "        \n",
    "def removeDuplicatesTwo(head):\n",
    "    \n",
    "    if head == None or head.next == None:\n",
    "        \n",
    "        return head\n",
    "    \n",
    "    temp = dummy = ListNode(0)\n",
    "    \n",
    "    dummy.next = head\n",
    "    \n",
    "    while (temp.next and temp.next.next):                   #用temp來iterate 因為最後是  return head       \n",
    "        \n",
    "        if temp.next.val == temp.next.next.val:             #注意 要讓temp停在 還沒有重複的 node上\n",
    "            \n",
    "            duplicate = temp.next\n",
    "            \n",
    "            while (temp.next != None and temp.next.val == duplicate.val):  #注意 要有head.next != None，因為可能是last element是repetitive\n",
    "                \n",
    "                temp.next = temp.next.next\n",
    "                \n",
    "        else:\n",
    "            \n",
    "            temp = temp.next\n",
    "            \n",
    "    return dummy.next\n",
    "\n",
    "node = ListNode(1)\n",
    "node.next = ListNode(1)\n",
    "node.next.next = ListNode(1)\n",
    "node.next.next.next = ListNode(2)\n",
    "node.next.next.next.next = ListNode(3)\n",
    "\n",
    "print(removeDuplicatesTwo(node))\n",
    "\n",
    "node = ListNode(1)\n",
    "node.next = ListNode(2)\n",
    "node.next.next = ListNode(2)\n",
    "node.next.next.next = ListNode(3)\n",
    "node.next.next.next.next = ListNode(4)\n",
    "node.next.next.next.next.next = ListNode(4)\n",
    "node.next.next.next.next.next.next = ListNode(5)\n",
    "\n",
    "print(removeDuplicatesTwo(node))"
   ]
  }
 ],
 "metadata": {
  "kernelspec": {
   "display_name": "Python 3",
   "language": "python",
   "name": "python3"
  },
  "language_info": {
   "codemirror_mode": {
    "name": "ipython",
    "version": 3
   },
   "file_extension": ".py",
   "mimetype": "text/x-python",
   "name": "python",
   "nbconvert_exporter": "python",
   "pygments_lexer": "ipython3",
   "version": "3.7.6"
  }
 },
 "nbformat": 4,
 "nbformat_minor": 4
}
