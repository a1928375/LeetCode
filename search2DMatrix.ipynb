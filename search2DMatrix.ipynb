{
 "cells": [
  {
   "cell_type": "markdown",
   "metadata": {},
   "source": [
    "# Search for a 2D matrix"
   ]
  },
  {
   "cell_type": "code",
   "execution_count": 5,
   "metadata": {},
   "outputs": [
    {
     "name": "stdout",
     "output_type": "stream",
     "text": [
      "-1\n",
      "True\n",
      "True\n",
      "True\n",
      "True\n",
      "False\n"
     ]
    }
   ],
   "source": [
    "def search2DMatrix (list, target):\n",
    "\n",
    "    if list == None or target == None or list == [] or list[0] == None or list[0] == []:\n",
    "        \n",
    "        return False\n",
    "        \n",
    "    row = len(list)\n",
    "    column = len(list[0])\n",
    "    \n",
    "    start = 0\n",
    "    end = row * column - 1\n",
    "    \n",
    "    while (start + 1 < end):\n",
    "        \n",
    "        mid = start + (end - start) // 2\n",
    "        \n",
    "        if list[mid // column][mid % column] == target:\n",
    "            \n",
    "            return True\n",
    "        \n",
    "        elif list[mid // column][mid % column] > target:\n",
    "            \n",
    "            end = mid\n",
    "            \n",
    "        elif list[mid // column][mid % column] < target:\n",
    "            \n",
    "            start = mid\n",
    "            \n",
    "    if list[start // column][start % column] == target:\n",
    "        \n",
    "        return True\n",
    "    \n",
    "    elif list[end // column][end % column] == target:\n",
    "        \n",
    "        return True\n",
    "\n",
    "    return False\n",
    "\n",
    "print(search2DMatrix([], 3))\n",
    "print(search2DMatrix([[1,3,5,7], [10,11,16,20], [23,30,34,50]], 3))\n",
    "print(search2DMatrix([[1,3,5,7], [10,11,16,20], [23,30,34,50]], 5))\n",
    "print(search2DMatrix([[1,3,5,7], [10,11,16,20], [23,30,34,50]], 11))\n",
    "print(search2DMatrix([[1,3,5,7], [10,11,16,20], [23,30,34,50]], 23))\n",
    "print(search2DMatrix([[1,3,5,7], [10,11,16,20], [23,30,34,50]], 36))"
   ]
  }
 ],
 "metadata": {
  "kernelspec": {
   "display_name": "Python 3",
   "language": "python",
   "name": "python3"
  },
  "language_info": {
   "codemirror_mode": {
    "name": "ipython",
    "version": 3
   },
   "file_extension": ".py",
   "mimetype": "text/x-python",
   "name": "python",
   "nbconvert_exporter": "python",
   "pygments_lexer": "ipython3",
   "version": "3.7.6"
  }
 },
 "nbformat": 4,
 "nbformat_minor": 4
}
