{
 "cells": [
  {
   "cell_type": "markdown",
   "metadata": {},
   "source": [
    "# 2-dimension"
   ]
  },
  {
   "cell_type": "code",
   "execution_count": 3,
   "metadata": {},
   "outputs": [
    {
     "name": "stdout",
     "output_type": "stream",
     "text": [
      "9\n"
     ]
    }
   ],
   "source": [
    "def backpackTwo(total, size, val):\n",
    "    \n",
    "    # result[i][j] 為 size的前i個element 填入j的背包 時 可允許的最大允許總價值\n",
    "    \n",
    "    if total == 0 or size == None or size == [] or val == None or val == [] or len(size) != len(val):\n",
    "        \n",
    "        return 0\n",
    "    \n",
    "    result = [[0 for _ in range(total + 1)] for _ in range(len(size) + 1)]\n",
    "    \n",
    "    for i in range(1, len(size) + 1):\n",
    "        \n",
    "        for j in range(1, total + 1):\n",
    "            \n",
    "            if j < size[i - 1]:\n",
    "                \n",
    "                result[i][j] = result[i - 1][j]\n",
    "                \n",
    "            else:\n",
    "                \n",
    "                result[i][j] = max(result[i - 1][j], result[i - 1][j - size[i - 1]] + val[i - 1])\n",
    "                \n",
    "    return result[-1][-1]\n",
    "\n",
    "print (backpackTwo(10, [2,3,5,7], [1,5,2,4]))"
   ]
  },
  {
   "cell_type": "markdown",
   "metadata": {},
   "source": [
    "# 1-dimension"
   ]
  },
  {
   "cell_type": "code",
   "execution_count": 4,
   "metadata": {},
   "outputs": [
    {
     "name": "stdout",
     "output_type": "stream",
     "text": [
      "9\n"
     ]
    }
   ],
   "source": [
    "def backPackTwo1(total, size, val):\n",
    "    \n",
    "    # result[j] 为 size 的前 i个物品填满大小为 j 的背包時的最大允許總價值\n",
    "    \n",
    "    if total == 0 or size == [] or val == []:\n",
    "        \n",
    "        return 0\n",
    "    \n",
    "    result = [0 for _ in range(total + 1)]\n",
    "    \n",
    "    for i in range(len(size)):\n",
    "        \n",
    "        for j in range(total, size[i] - 1, -1):    #倒著走 -> j越小 代表被引用的機會越大 -> 最後update\n",
    "                                                   #j越大 代表被引用的機會越小 -> 最先update\n",
    "            \n",
    "            result[j] = max(result[j], result[j - size[i]] + val[i])\n",
    "            \n",
    "    return result[-1]\n",
    "\n",
    "print (backPackTwo1(10, [2,3,5,7], [1,5,2,4]))"
   ]
  }
 ],
 "metadata": {
  "kernelspec": {
   "display_name": "Python 3",
   "language": "python",
   "name": "python3"
  },
  "language_info": {
   "codemirror_mode": {
    "name": "ipython",
    "version": 3
   },
   "file_extension": ".py",
   "mimetype": "text/x-python",
   "name": "python",
   "nbconvert_exporter": "python",
   "pygments_lexer": "ipython3",
   "version": "3.7.6"
  }
 },
 "nbformat": 4,
 "nbformat_minor": 4
}
