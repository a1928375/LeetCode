{
 "cells": [
  {
   "cell_type": "markdown",
   "metadata": {},
   "source": [
    "# linked list cycle"
   ]
  },
  {
   "cell_type": "code",
   "execution_count": 3,
   "metadata": {},
   "outputs": [
    {
     "name": "stdout",
     "output_type": "stream",
     "text": [
      "True\n",
      "False\n"
     ]
    }
   ],
   "source": [
    "class ListNode:\n",
    "    \n",
    "    def __init__(self, val = 0, next = None):\n",
    "        \n",
    "        self.val = val\n",
    "        self.next = next\n",
    "        \n",
    "def linkedListCycle(head):\n",
    "    \n",
    "    if head == None or head.next == None:\n",
    "        \n",
    "        return False\n",
    "    \n",
    "    slow, fast = head, head.next\n",
    "    \n",
    "    while (fast and fast.next):\n",
    "        \n",
    "        if slow == fast:\n",
    "            \n",
    "            return True\n",
    "            \n",
    "        slow = slow.next\n",
    "        fast = fast.next.next\n",
    "        \n",
    "    return False\n",
    "\n",
    "node = ListNode(1)\n",
    "node.next = ListNode(2)\n",
    "a = node.next.next = ListNode(3)\n",
    "node.next.next.next = ListNode(4)\n",
    "node.next.next.next.next = ListNode(5)\n",
    "node.next.next.next.next.next = a\n",
    "\n",
    "print (linkedListCycle(node))\n",
    "\n",
    "node = ListNode(1)\n",
    "node.next = ListNode(2)\n",
    "node.next.next = ListNode(3)\n",
    "node.next.next.next = ListNode(4)\n",
    "node.next.next.next.next = ListNode(5)\n",
    "\n",
    "print (linkedListCycle(node))"
   ]
  }
 ],
 "metadata": {
  "kernelspec": {
   "display_name": "Python 3",
   "language": "python",
   "name": "python3"
  },
  "language_info": {
   "codemirror_mode": {
    "name": "ipython",
    "version": 3
   },
   "file_extension": ".py",
   "mimetype": "text/x-python",
   "name": "python",
   "nbconvert_exporter": "python",
   "pygments_lexer": "ipython3",
   "version": "3.7.6"
  }
 },
 "nbformat": 4,
 "nbformat_minor": 4
}
