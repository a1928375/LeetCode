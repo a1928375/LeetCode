{
 "cells": [
  {
   "cell_type": "markdown",
   "metadata": {},
   "source": [
    "# binary search tree iterator"
   ]
  },
  {
   "cell_type": "code",
   "execution_count": 4,
   "metadata": {},
   "outputs": [],
   "source": [
    "class TreeNode:\n",
    "    \n",
    "    def __init__(self, val=0, left=None, right=None):\n",
    "        \n",
    "        self.val = val\n",
    "        self.left = left\n",
    "        self.right = right\n",
    "        \n",
    "class BSTIterator:\n",
    "    \n",
    "    stack = []\n",
    "\n",
    "    def __init__(self, root: TreeNode):\n",
    "\n",
    "        while root:\n",
    "            \n",
    "            self.stack.append(root)\n",
    "            \n",
    "            root = root.left       \n",
    "       \n",
    "    def next(self) -> int:\n",
    "        \"\"\"\n",
    "        @return the next smallest number\n",
    "        \"\"\"\n",
    "        \n",
    "        if len(self.stack) == 0:\n",
    "            \n",
    "            return None\n",
    "        \n",
    "        upperNode = self.stack.pop()\n",
    "        \n",
    "        node = upperNode.right\n",
    "        \n",
    "        while node:\n",
    "            \n",
    "            self.stack.append(node)\n",
    "            \n",
    "            node = node.left\n",
    "            \n",
    "        return upperNode.val\n",
    "\n",
    "    def hasNext(self) -> bool:\n",
    "        \"\"\"\n",
    "        @return whether we have a next smallest number\n",
    "        \"\"\"\n",
    "        \n",
    "        return len(self.stack) != 0\n",
    "\n",
    "# Your BSTIterator object will be instantiated and called as such:\n",
    "# obj = BSTIterator(root)\n",
    "# param_1 = obj.next()\n",
    "# param_2 = obj.hasNext()"
   ]
  }
 ],
 "metadata": {
  "kernelspec": {
   "display_name": "Python 3",
   "language": "python",
   "name": "python3"
  },
  "language_info": {
   "codemirror_mode": {
    "name": "ipython",
    "version": 3
   },
   "file_extension": ".py",
   "mimetype": "text/x-python",
   "name": "python",
   "nbconvert_exporter": "python",
   "pygments_lexer": "ipython3",
   "version": "3.7.6"
  }
 },
 "nbformat": 4,
 "nbformat_minor": 4
}
