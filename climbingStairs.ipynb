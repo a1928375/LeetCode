{
 "cells": [
  {
   "cell_type": "markdown",
   "metadata": {},
   "source": [
    "# Climbing Stairs"
   ]
  },
  {
   "cell_type": "code",
   "execution_count": 2,
   "metadata": {},
   "outputs": [
    {
     "name": "stdout",
     "output_type": "stream",
     "text": [
      "3\n",
      "8\n"
     ]
    }
   ],
   "source": [
    "def climbingStairs(n):\n",
    "    \n",
    "    if n == None or n == 0:\n",
    "        \n",
    "        return -1\n",
    "    \n",
    "    elif n == 1 or n == 2:\n",
    "        \n",
    "        return n\n",
    "    \n",
    "    result = [0 for _ in range(n)]\n",
    "    \n",
    "    result[0], result[1] = 1, 2\n",
    "    \n",
    "    for i in range(2,n):\n",
    "        \n",
    "        result[i] = result[i - 2] + result[i - 1]\n",
    "        \n",
    "    return result[-1]\n",
    "\n",
    "print (climbingStairs(3))\n",
    "print (climbingStairs(5))    "
   ]
  }
 ],
 "metadata": {
  "kernelspec": {
   "display_name": "Python 3",
   "language": "python",
   "name": "python3"
  },
  "language_info": {
   "codemirror_mode": {
    "name": "ipython",
    "version": 3
   },
   "file_extension": ".py",
   "mimetype": "text/x-python",
   "name": "python",
   "nbconvert_exporter": "python",
   "pygments_lexer": "ipython3",
   "version": "3.7.6"
  }
 },
 "nbformat": 4,
 "nbformat_minor": 4
}
