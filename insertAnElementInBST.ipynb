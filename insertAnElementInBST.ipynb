{
 "cells": [
  {
   "cell_type": "markdown",
   "metadata": {},
   "source": [
    "# iterative method"
   ]
  },
  {
   "cell_type": "code",
   "execution_count": 2,
   "metadata": {},
   "outputs": [
    {
     "name": "stdout",
     "output_type": "stream",
     "text": [
      "<__main__.Node object at 0x000002A6F7A52BC8>\n"
     ]
    }
   ],
   "source": [
    "class Node:\n",
    "    \n",
    "    def __init__(self, value):\n",
    "        \n",
    "        self.value = value\n",
    "        self.left = None\n",
    "        self.right = None\n",
    "\n",
    "def IAEIBST(root, Node):\n",
    "    \n",
    "    if (root == None and Node == None) or Node == None:\n",
    "        \n",
    "        return -1\n",
    "    \n",
    "    if root == None:\n",
    "        \n",
    "        return Node\n",
    "    \n",
    "    while (root):\n",
    "        \n",
    "        if root.value > Node.value:\n",
    "            \n",
    "            if root.left == None:\n",
    "                \n",
    "                root.left = Node\n",
    "                \n",
    "                break\n",
    "            \n",
    "            else:\n",
    "                \n",
    "                root = root.left\n",
    "                \n",
    "        elif root.value < Node.value:\n",
    "            \n",
    "            if root.right == None:\n",
    "                \n",
    "                root.right = Node\n",
    "                \n",
    "                break\n",
    "            \n",
    "            else:\n",
    "                \n",
    "                root = root.right        \n",
    "     \n",
    "    return root\n",
    "    \n",
    "root = Node(2)\n",
    "root.left = Node(1)\n",
    "root.right = Node(4)\n",
    "root.right.left = Node(3)\n",
    "\n",
    "print (IAEIBST(root, Node(6)))        "
   ]
  },
  {
   "cell_type": "markdown",
   "metadata": {},
   "source": [
    "# recursive method-mine"
   ]
  },
  {
   "cell_type": "code",
   "execution_count": 3,
   "metadata": {},
   "outputs": [
    {
     "name": "stdout",
     "output_type": "stream",
     "text": [
      "<__main__.Node object at 0x000002A6F7AAAA88>\n"
     ]
    }
   ],
   "source": [
    "class Node:\n",
    "    \n",
    "    def __init__(self, value):\n",
    "        \n",
    "        self.value = value\n",
    "        self.left = None\n",
    "        self.right = None\n",
    "\n",
    "def IAEIBST1(root, Node):\n",
    "    \n",
    "    if (root == None and Node == None) or Node == None:\n",
    "        \n",
    "        return -1\n",
    "    \n",
    "    if root == None:\n",
    "        \n",
    "        return Node\n",
    "    \n",
    "    helper(root, Node)\n",
    "    \n",
    "    return root\n",
    "    \n",
    "def helper(root, Node):\n",
    "    \n",
    "    if Node.value < root.value:\n",
    "        \n",
    "        if root.left == None:\n",
    "            \n",
    "            root.left = Node\n",
    "        \n",
    "        else:\n",
    "            \n",
    "            helper(root.left, Node)\n",
    "        \n",
    "    elif Node.value > root.value:\n",
    "        \n",
    "        if root.right == None:\n",
    "            \n",
    "            root.right = Node\n",
    "        \n",
    "        else:\n",
    "            \n",
    "            helper(root.right, Node)\n",
    "        \n",
    "root = Node(2)\n",
    "root.left = Node(1)\n",
    "root.right = Node(4)\n",
    "root.right.left = Node(3)\n",
    "\n",
    "print (IAEIBST1(root, Node(6)))  "
   ]
  },
  {
   "cell_type": "markdown",
   "metadata": {},
   "source": [
    "# recursive method"
   ]
  },
  {
   "cell_type": "code",
   "execution_count": 5,
   "metadata": {},
   "outputs": [
    {
     "data": {
      "text/plain": [
       "<__main__.Node at 0x2a6f7b406c8>"
      ]
     },
     "execution_count": 5,
     "metadata": {},
     "output_type": "execute_result"
    }
   ],
   "source": [
    "class Node:\n",
    "    \n",
    "    def __init__(self, value):\n",
    "        \n",
    "        self.value = value\n",
    "        self.left = None\n",
    "        self.right = None\n",
    "\n",
    "def IEBST2(root, node):\n",
    "    \n",
    "    if root == None:\n",
    "        \n",
    "        return node\n",
    "    \n",
    "    if root.value < node.value:\n",
    "        \n",
    "        root.right = IEBST2(root.right, node)\n",
    "        \n",
    "    elif root.value > node.value:\n",
    "        \n",
    "        root.left = IEBST2(root.left, node)\n",
    "    \n",
    "    return root                               #此return很重要 => 在最後完成的時侯，每一層的return就是要return root\n",
    "                                              #因為是  write  root.right = IEBST1(root.right, node)  &  root.left = IEBST1(root.left, node)\n",
    "    \n",
    "root = Node(3)\n",
    "root.left = Node(1)\n",
    "root.right = Node(5)\n",
    "root.left.left = Node(0)\n",
    "root.left.right = Node(2)\n",
    "root.right.left = Node(4)\n",
    "\n",
    "IEBST2(root, Node(3.5))"
   ]
  }
 ],
 "metadata": {
  "kernelspec": {
   "display_name": "Python 3",
   "language": "python",
   "name": "python3"
  },
  "language_info": {
   "codemirror_mode": {
    "name": "ipython",
    "version": 3
   },
   "file_extension": ".py",
   "mimetype": "text/x-python",
   "name": "python",
   "nbconvert_exporter": "python",
   "pygments_lexer": "ipython3",
   "version": "3.7.6"
  }
 },
 "nbformat": 4,
 "nbformat_minor": 4
}
