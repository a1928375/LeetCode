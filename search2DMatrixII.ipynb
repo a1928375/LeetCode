{
 "cells": [
  {
   "cell_type": "markdown",
   "metadata": {},
   "source": [
    "# Search a 2D matrix II"
   ]
  },
  {
   "cell_type": "code",
   "execution_count": 5,
   "metadata": {},
   "outputs": [
    {
     "name": "stdout",
     "output_type": "stream",
     "text": [
      "-1\n",
      "-1\n",
      "2\n",
      "1\n",
      "2\n",
      "2\n",
      "1\n",
      "1\n",
      "1\n",
      "1\n",
      "1\n",
      "0\n"
     ]
    }
   ],
   "source": [
    "def search2DMatrixII (matrix, target):\n",
    "    \n",
    "    if matrix == None or target == None or matrix == [] or matrix[0] == [] or matrix[0] == None:\n",
    "        \n",
    "        return -1\n",
    "    \n",
    "    row = len(matrix)\n",
    "    column = len(matrix[0])\n",
    "    \n",
    "    x = row - 1\n",
    "    y = 0\n",
    "    count = 0\n",
    "    \n",
    "    while (x >= 0 and y < column):\n",
    "        \n",
    "        if matrix[x][y] == target:\n",
    "            \n",
    "            count += 1\n",
    "            x -= 1\n",
    "            y += 1\n",
    "            \n",
    "        elif matrix[x][y] > target:\n",
    "            \n",
    "            x -= 1\n",
    "            \n",
    "        elif matrix[x][y] < target:\n",
    "            \n",
    "            y += 1\n",
    "    \n",
    "    return count      \n",
    "\n",
    "print (search2DMatrixII([],3))\n",
    "print (search2DMatrixII([[]],3))\n",
    "print (search2DMatrixII([[1,3,5,7],[2,4,7,8],[3,5,9,10]],3))\n",
    "print (search2DMatrixII([[1,3,5,7],[2,4,7,8],[3,5,9,10]],1))\n",
    "print (search2DMatrixII([[1,3,5,7],[2,4,7,8],[3,5,9,10]],5))\n",
    "print (search2DMatrixII([[1,3,5,7],[2,4,7,8],[3,5,9,10]],7))\n",
    "print (search2DMatrixII([[1,3,5,7],[2,4,7,8],[3,5,9,10]],2))\n",
    "print (search2DMatrixII([[1,3,5,7],[2,4,7,8],[3,5,9,10]],4))\n",
    "print (search2DMatrixII([[1,3,5,7],[2,4,7,8],[3,5,9,10]],8))\n",
    "print (search2DMatrixII([[1,3,5,7],[2,4,7,8],[3,5,9,10]],9))\n",
    "print (search2DMatrixII([[1,3,5,7],[2,4,7,8],[3,5,9,10]],10))\n",
    "print (search2DMatrixII([[1,3,5,7],[2,4,7,8],[3,5,9,10]],23))"
   ]
  }
 ],
 "metadata": {
  "kernelspec": {
   "display_name": "Python 3",
   "language": "python",
   "name": "python3"
  },
  "language_info": {
   "codemirror_mode": {
    "name": "ipython",
    "version": 3
   },
   "file_extension": ".py",
   "mimetype": "text/x-python",
   "name": "python",
   "nbconvert_exporter": "python",
   "pygments_lexer": "ipython3",
   "version": "3.7.6"
  }
 },
 "nbformat": 4,
 "nbformat_minor": 4
}
