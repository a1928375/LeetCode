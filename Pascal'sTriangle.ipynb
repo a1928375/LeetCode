{
 "cells": [
  {
   "cell_type": "code",
   "execution_count": 3,
   "metadata": {},
   "outputs": [
    {
     "name": "stdout",
     "output_type": "stream",
     "text": [
      "[[1], [1, 1], [1, 2, 1], [1, 3, 3, 1], [1, 4, 6, 4, 1]]\n",
      "[[1], [1, 1], [1, 2, 1], [1, 3, 3, 1], [1, 4, 6, 4, 1], [1, 5, 10, 10, 5, 1], [1, 6, 15, 20, 15, 6, 1], [1, 7, 21, 35, 35, 21, 7, 1], [1, 8, 28, 56, 70, 56, 28, 8, 1], [1, 9, 36, 84, 126, 126, 84, 36, 9, 1]]\n"
     ]
    }
   ],
   "source": [
    "def pascalTriangle(row):\n",
    "\n",
    "    result = [[1]]\n",
    "    \n",
    "    if row <= 0:\n",
    "        \n",
    "        return []\n",
    "    \n",
    "    elif row == 1:\n",
    "        \n",
    "        return result\n",
    "\n",
    "    temp = [[0] * (row) for _ in range(row)]\n",
    "    \n",
    "    temp[0][0] = 1\n",
    "    \n",
    "    for i in range(1, row):\n",
    "        \n",
    "        temp[i][0] = 1\n",
    "        temp[i][i] = 1\n",
    "    \n",
    "    for i in range(2, row):\n",
    "        \n",
    "        for j in range(1, i):\n",
    "            \n",
    "            temp[i][j] = temp[i - 1][j - 1] + temp[i - 1][j]\n",
    "\n",
    "    for k in range(1,row):\n",
    "        \n",
    "        part = temp[k][:k + 1]\n",
    "        result.append(part)\n",
    "        \n",
    "    return result\n",
    "\n",
    "print (pascalTriangle(5))\n",
    "print (pascalTriangle(10))\n",
    "\n",
    "# Input: 5\n",
    "# Output:\n",
    "# [\n",
    "#      [1],\n",
    "#     [1,1],\n",
    "#    [1,2,1],\n",
    "#   [1,3,3,1],\n",
    "#  [1,4,6,4,1]\n",
    "# ]"
   ]
  },
  {
   "cell_type": "code",
   "execution_count": 7,
   "metadata": {},
   "outputs": [
    {
     "name": "stdout",
     "output_type": "stream",
     "text": [
      "[[1], [1, 1], [1, 2, 1], [1, 3, 3, 1], [1, 4, 6, 4, 1]]\n",
      "[[1], [1, 1], [1, 2, 1], [1, 3, 3, 1], [1, 4, 6, 4, 1], [1, 5, 10, 10, 5, 1], [1, 6, 15, 20, 15, 6, 1], [1, 7, 21, 35, 35, 21, 7, 1], [1, 8, 28, 56, 70, 56, 28, 8, 1], [1, 9, 36, 84, 126, 126, 84, 36, 9, 1]]\n"
     ]
    }
   ],
   "source": [
    "def pascalTriangle1(row):\n",
    "\n",
    "    result = [[1]]\n",
    "    \n",
    "    if row <= 0:\n",
    "        \n",
    "        return []\n",
    "    \n",
    "    elif row == 1:\n",
    "        \n",
    "        return result\n",
    "\n",
    "    for _ in range(1, row):\n",
    "    \n",
    "        tempRight = [0] + result[-1]\n",
    "        tempLeft = result[-1] + [0]\n",
    "        \n",
    "        temp = tempLeft.copy()\n",
    "        \n",
    "        for i in range(len(tempRight)):\n",
    "\n",
    "            temp[i] = tempLeft[i] + tempRight[i]\n",
    "        \n",
    "        result.append(temp)\n",
    "        \n",
    "    return result\n",
    "\n",
    "print (pascalTriangle1(5))\n",
    "print (pascalTriangle1(10))\n",
    "\n",
    "# Input: 5\n",
    "# Output:\n",
    "# [\n",
    "#      [1],\n",
    "#     [1,1],\n",
    "#    [1,2,1],\n",
    "#   [1,3,3,1],\n",
    "#  [1,4,6,4,1]\n",
    "# ]\n",
    "\n",
    "# explanation: Any row can be constructed using the offset sum of the previous row. Example:\n",
    "#     1 3 3 1 0 \n",
    "#  +  0 1 3 3 1\n",
    "#  =  1 4 6 4 1"
   ]
  }
 ],
 "metadata": {
  "kernelspec": {
   "display_name": "Python 3",
   "language": "python",
   "name": "python3"
  },
  "language_info": {
   "codemirror_mode": {
    "name": "ipython",
    "version": 3
   },
   "file_extension": ".py",
   "mimetype": "text/x-python",
   "name": "python",
   "nbconvert_exporter": "python",
   "pygments_lexer": "ipython3",
   "version": "3.7.6"
  }
 },
 "nbformat": 4,
 "nbformat_minor": 4
}
