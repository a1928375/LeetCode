{
 "cells": [
  {
   "cell_type": "markdown",
   "metadata": {},
   "source": [
    "# sort list"
   ]
  },
  {
   "cell_type": "code",
   "execution_count": 1,
   "metadata": {},
   "outputs": [
    {
     "name": "stdout",
     "output_type": "stream",
     "text": [
      "<__main__.ListNode object at 0x00000289DBD5FD08>\n"
     ]
    }
   ],
   "source": [
    "class ListNode:\n",
    "    \n",
    "    def __init__(self, val = 0, next = None):\n",
    "        \n",
    "        self.val = val\n",
    "        self.next = next\n",
    "\n",
    "def findMiddle(head):\n",
    "    \n",
    "    slow, fast = head, head.next              #背\n",
    "    \n",
    "    while (fast and fast.next):               #背\n",
    "        \n",
    "        slow = slow.next\n",
    "        fast = fast.next.next\n",
    "        \n",
    "    return slow\n",
    "\n",
    "def merge(head1, head2):\n",
    "    \n",
    "    temp = dummy = ListNode(0)\n",
    "    \n",
    "    while (head1 and head2):\n",
    "        \n",
    "        if head1.val > head2.val:\n",
    "            \n",
    "            temp.next = head2\n",
    "            head2 = head2.next\n",
    "        \n",
    "        else:\n",
    "            \n",
    "            temp.next = head1\n",
    "            head1 = head1.next\n",
    "        \n",
    "        temp = temp.next\n",
    "        \n",
    "    if head1:\n",
    "        \n",
    "        temp.next = head1\n",
    "        \n",
    "    elif head2:\n",
    "        \n",
    "        temp.next = head2\n",
    "        \n",
    "    return dummy.next\n",
    "        \n",
    "def sortList(head):\n",
    "    \n",
    "    if head == None or head.next == None:\n",
    "        \n",
    "        return head\n",
    "    \n",
    "    middle = findMiddle(head)\n",
    "    \n",
    "    right = sortList(middle.next)\n",
    "    \n",
    "    middle.next = None\n",
    "    \n",
    "    left = sortList(head)\n",
    "    \n",
    "    return merge(left, right)\n",
    "\n",
    "node = ListNode(1)\n",
    "node.next = ListNode(7)\n",
    "node.next.next = ListNode(2)\n",
    "node.next.next.next = ListNode(6)\n",
    "\n",
    "print (sortList(node))"
   ]
  }
 ],
 "metadata": {
  "kernelspec": {
   "display_name": "Python 3",
   "language": "python",
   "name": "python3"
  },
  "language_info": {
   "codemirror_mode": {
    "name": "ipython",
    "version": 3
   },
   "file_extension": ".py",
   "mimetype": "text/x-python",
   "name": "python",
   "nbconvert_exporter": "python",
   "pygments_lexer": "ipython3",
   "version": "3.7.6"
  }
 },
 "nbformat": 4,
 "nbformat_minor": 4
}
