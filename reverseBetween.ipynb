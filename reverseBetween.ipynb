{
 "cells": [
  {
   "cell_type": "markdown",
   "metadata": {},
   "source": [
    "# reverseBetween-mine"
   ]
  },
  {
   "cell_type": "code",
   "execution_count": 5,
   "metadata": {},
   "outputs": [
    {
     "name": "stdout",
     "output_type": "stream",
     "text": [
      "<__main__.ListNode object at 0x0000021340171148>\n"
     ]
    }
   ],
   "source": [
    "class ListNode:\n",
    "    \n",
    "    def __init__(self, val = 0, next = None):\n",
    "        \n",
    "        self.val = val\n",
    "        self.next = next\n",
    "        \n",
    "def reverseBetween(head, m, n):\n",
    "    \n",
    "    if head == None or head.next == None or m >= n:\n",
    "        \n",
    "        return head\n",
    "    \n",
    "    dummy = ListNode(0)\n",
    "    \n",
    "    dummy.next = head\n",
    "    \n",
    "    head = dummy                             #注意，一定要讓 head = dummy -> otherwise m = 1時 會wrong\n",
    "    \n",
    "    for _ in range(1, m):\n",
    "        \n",
    "        head = head.next\n",
    "    \n",
    "    pre = head\n",
    "    start = pre.next\n",
    "    temp = start.next\n",
    "        \n",
    "    for _ in range(m, n):               # draw pictures with 2 sequences to get (a), (b), (c) & (d) -> 找出規律\n",
    "        \n",
    "        start.next = temp.next  # a\n",
    "        temp.next = pre.next    # b\n",
    "        pre.next = temp         # c\n",
    "        temp = start.next       # d\n",
    "        \n",
    "    return dummy.next\n",
    "\n",
    "node = ListNode(1)\n",
    "node.next = ListNode(2)\n",
    "node.next.next = ListNode(3)\n",
    "node.next.next.next = ListNode(4)\n",
    "node.next.next.next.next = ListNode(5)\n",
    "\n",
    "print (reverseBetween(node, 2, 4))"
   ]
  },
  {
   "cell_type": "markdown",
   "metadata": {},
   "source": [
    "# reverseBetween"
   ]
  },
  {
   "cell_type": "code",
   "execution_count": 3,
   "metadata": {},
   "outputs": [
    {
     "name": "stdout",
     "output_type": "stream",
     "text": [
      "<__main__.ListNode object at 0x000002133F10B8C8>\n"
     ]
    }
   ],
   "source": [
    "class ListNode:\n",
    "    \n",
    "    def __init__(self, val = 0, next = None):\n",
    "        \n",
    "        self.val = val\n",
    "        self.next = next\n",
    "        \n",
    "def reverseBetween1(head, m, n):\n",
    "    \n",
    "    if head == None or head.next == None or m >= n:\n",
    "        \n",
    "        return head\n",
    "    \n",
    "    dummy = ListNode(None)\n",
    "    dummy.next = head\n",
    "    head = dummy\n",
    "\n",
    "    for i in range(1, m):\n",
    "        \n",
    "        if head == None:\n",
    "            \n",
    "            return None\n",
    "        \n",
    "        else:\n",
    "            \n",
    "            head = head.next\n",
    "            \n",
    "    premNode = head\n",
    "    start = head.next\n",
    "    then = start.next\n",
    "    \n",
    "    for i in range(m, n):\n",
    "        \n",
    "        if then == None:\n",
    "            \n",
    "            return None\n",
    "        \n",
    "        start.next = then.next       # a\n",
    "        then.next = premNode.next    # b\n",
    "        premNode.next = then         # c\n",
    "        then = start.next            # d\n",
    "    \n",
    "    return dummy.next\n",
    "\n",
    "node = ListNode(1)\n",
    "node.next = ListNode(2)\n",
    "node.next.next = ListNode(3)\n",
    "node.next.next.next = ListNode(4)\n",
    "node.next.next.next.next = ListNode(5)    \n",
    "    \n",
    "print (reverseBetween1(node, 2, 4)) "
   ]
  }
 ],
 "metadata": {
  "kernelspec": {
   "display_name": "Python 3",
   "language": "python",
   "name": "python3"
  },
  "language_info": {
   "codemirror_mode": {
    "name": "ipython",
    "version": 3
   },
   "file_extension": ".py",
   "mimetype": "text/x-python",
   "name": "python",
   "nbconvert_exporter": "python",
   "pygments_lexer": "ipython3",
   "version": "3.7.6"
  }
 },
 "nbformat": 4,
 "nbformat_minor": 4
}
