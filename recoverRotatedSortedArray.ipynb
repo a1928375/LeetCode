{
 "cells": [
  {
   "cell_type": "markdown",
   "metadata": {},
   "source": [
    "# Recover rotated sorted array"
   ]
  },
  {
   "cell_type": "code",
   "execution_count": 4,
   "metadata": {},
   "outputs": [
    {
     "name": "stdout",
     "output_type": "stream",
     "text": [
      "[1, 2, 3, 4, 5]\n"
     ]
    }
   ],
   "source": [
    "def recoverRotatedSortedArray (list):\n",
    "    \n",
    "    for i in range(len(list)):\n",
    "        \n",
    "        if list[i] > list[i+1]:\n",
    "                        \n",
    "            reverse(list, 0, i)\n",
    "            reverse(list, i + 1, len(list) - 1)\n",
    "            reverse(list, 0, len(list) - 1)\n",
    "    \n",
    "            return list\n",
    "\n",
    "    return \"It's not rotated sorted array.\"\n",
    "    \n",
    "def reverse(list, start, end):\n",
    "    \n",
    "    val = end - start\n",
    "    \n",
    "    if val % 2 != 0:\n",
    "        \n",
    "        val += 1\n",
    "    \n",
    "    for i in range(val // 2):\n",
    "        \n",
    "        list[start], list[end] = list[end], list[start]\n",
    "        \n",
    "        start += 1\n",
    "        end -= 1\n",
    "        \n",
    "print (recoverRotatedSortedArray([4,5,1,2,3]))   \n",
    "    "
   ]
  }
 ],
 "metadata": {
  "kernelspec": {
   "display_name": "Python 3",
   "language": "python",
   "name": "python3"
  },
  "language_info": {
   "codemirror_mode": {
    "name": "ipython",
    "version": 3
   },
   "file_extension": ".py",
   "mimetype": "text/x-python",
   "name": "python",
   "nbconvert_exporter": "python",
   "pygments_lexer": "ipython3",
   "version": "3.7.6"
  }
 },
 "nbformat": 4,
 "nbformat_minor": 4
}
