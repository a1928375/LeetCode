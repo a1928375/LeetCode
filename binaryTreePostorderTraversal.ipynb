{
 "cells": [
  {
   "cell_type": "markdown",
   "metadata": {},
   "source": [
    "# iterative method"
   ]
  },
  {
   "cell_type": "code",
   "execution_count": 30,
   "metadata": {},
   "outputs": [
    {
     "name": "stdout",
     "output_type": "stream",
     "text": [
      "[4, 5, 2, 6, 7, 3, 1]\n"
     ]
    }
   ],
   "source": [
    "class Node:\n",
    "    \n",
    "    def __init__(self,value):\n",
    "        \n",
    "        self.value = value\n",
    "        self.left = None\n",
    "        self.right = None\n",
    "\n",
    "def postOrderIterative(root):\n",
    "    \n",
    "    stack = []\n",
    "    result = []\n",
    "    \n",
    "    if root == None:\n",
    "        \n",
    "        return result\n",
    "    \n",
    "    while(root != None or len(stack) > 0):\n",
    "        \n",
    "        if root != None:\n",
    "            \n",
    "            stack.append(root)\n",
    "            result.insert(0, root.value)        # Reverse the process of preorder\n",
    "            root = root.right                   # go to right child first\n",
    "            \n",
    "        else:\n",
    "            \n",
    "            node = stack.pop()\n",
    "            root = node.left                    # go to left child later\n",
    "            \n",
    "    return result\n",
    "\n",
    "root = Node(1)\n",
    "root.left = Node(2)\n",
    "root.right = Node(3)\n",
    "root.left.left = Node(4)\n",
    "root.left.right = Node(5)\n",
    "root.right.left = Node(6)\n",
    "root.right.right = Node(7)\n",
    "\n",
    "print (postOrderIterative(root))"
   ]
  },
  {
   "cell_type": "markdown",
   "metadata": {},
   "source": [
    "# recursive method"
   ]
  },
  {
   "cell_type": "code",
   "execution_count": 29,
   "metadata": {},
   "outputs": [
    {
     "name": "stdout",
     "output_type": "stream",
     "text": [
      "[4, 5, 2, 6, 7, 3, 1]\n"
     ]
    }
   ],
   "source": [
    "class Node:\n",
    "    \n",
    "    def __init__(self, value):\n",
    "        \n",
    "        self.value = value\n",
    "        self.left = None\n",
    "        self.right = None\n",
    "\n",
    "def postOrder(root):\n",
    "    \n",
    "    if root == None:\n",
    "        \n",
    "        return []\n",
    "    \n",
    "    result = []\n",
    "    \n",
    "    helper(root, result)\n",
    "    \n",
    "    return result\n",
    "\n",
    "def helper(root, result):\n",
    "    \n",
    "    if root == None:\n",
    "        \n",
    "        return\n",
    "    \n",
    "    helper(root.left, result)\n",
    "    helper(root.right, result)\n",
    "    \n",
    "    result.append(root.value)\n",
    "    \n",
    "root = Node(1)\n",
    "root.left = Node(2)\n",
    "root.right = Node(3)\n",
    "root.left.left = Node(4)\n",
    "root.left.right = Node(5)\n",
    "root.right.left = Node(6)\n",
    "root.right.right = Node(7)\n",
    "\n",
    "print (postOrder(root))   "
   ]
  }
 ],
 "metadata": {
  "kernelspec": {
   "display_name": "Python 3",
   "language": "python",
   "name": "python3"
  },
  "language_info": {
   "codemirror_mode": {
    "name": "ipython",
    "version": 3
   },
   "file_extension": ".py",
   "mimetype": "text/x-python",
   "name": "python",
   "nbconvert_exporter": "python",
   "pygments_lexer": "ipython3",
   "version": "3.7.6"
  }
 },
 "nbformat": 4,
 "nbformat_minor": 4
}
