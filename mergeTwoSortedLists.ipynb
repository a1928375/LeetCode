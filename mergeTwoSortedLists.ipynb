{
 "cells": [
  {
   "cell_type": "markdown",
   "metadata": {},
   "source": [
    "# mergeTwoSortedLists"
   ]
  },
  {
   "cell_type": "code",
   "execution_count": 4,
   "metadata": {},
   "outputs": [
    {
     "name": "stdout",
     "output_type": "stream",
     "text": [
      "<__main__.ListNode object at 0x000001E134D8C708>\n"
     ]
    }
   ],
   "source": [
    "class ListNode:\n",
    "    \n",
    "    def __init__(self, val = 0, next = None):\n",
    "        \n",
    "        self.val = val\n",
    "        self.next = next\n",
    "        \n",
    "def mergeTwoSortedLists(head1, head2):\n",
    "    \n",
    "#     if head1 == None and head2 == None:   #不需要這些判斷 -> 下面就有\n",
    "        \n",
    "#         return None\n",
    "    \n",
    "#     elif head1 == None:\n",
    "        \n",
    "#         return head2\n",
    "    \n",
    "#     elif head2 == None:\n",
    "        \n",
    "#         return head1\n",
    "    \n",
    "    temp = dummy = ListNode(0)\n",
    "    \n",
    "    while (head1 and head2):\n",
    "        \n",
    "        if head1.val > head2.val:\n",
    "            \n",
    "            temp.next = head2\n",
    "            \n",
    "            head2 = head2.next\n",
    "            \n",
    "        else:\n",
    "            \n",
    "            temp.next = head1\n",
    "            \n",
    "            head1 = head1.next\n",
    "            \n",
    "        temp = temp.next\n",
    "        \n",
    "    if head1:\n",
    "        \n",
    "        temp.next = head1\n",
    "        \n",
    "    elif head2:\n",
    "        \n",
    "        temp.next = head2\n",
    "        \n",
    "    return dummy.next\n",
    "\n",
    "node1 = ListNode(1)\n",
    "node1.next = ListNode(2)\n",
    "node1.next.next = ListNode(3)\n",
    "\n",
    "node2 = ListNode(1)\n",
    "node2.next = ListNode(2)\n",
    "node2.next.next = ListNode(6)\n",
    "\n",
    "print (mergeTwoSortedLists(node1, node2))"
   ]
  }
 ],
 "metadata": {
  "kernelspec": {
   "display_name": "Python 3",
   "language": "python",
   "name": "python3"
  },
  "language_info": {
   "codemirror_mode": {
    "name": "ipython",
    "version": 3
   },
   "file_extension": ".py",
   "mimetype": "text/x-python",
   "name": "python",
   "nbconvert_exporter": "python",
   "pygments_lexer": "ipython3",
   "version": "3.7.6"
  }
 },
 "nbformat": 4,
 "nbformat_minor": 4
}
