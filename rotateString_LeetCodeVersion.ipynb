{
 "cells": [
  {
   "cell_type": "markdown",
   "metadata": {},
   "source": [
    "# Rotate string"
   ]
  },
  {
   "cell_type": "code",
   "execution_count": 3,
   "metadata": {},
   "outputs": [
    {
     "name": "stdout",
     "output_type": "stream",
     "text": [
      "True\n",
      "False\n"
     ]
    }
   ],
   "source": [
    "def rotateString(A: str, B: str) -> bool:\n",
    "        \n",
    "    if (A == \"\" and B == \"\") or A == B:\n",
    "            \n",
    "        return True\n",
    "        \n",
    "    elif A == None or B == None or A == \"\" or B == \"\":\n",
    "            \n",
    "        return False\n",
    "            \n",
    "        \n",
    "    for i in range(len(A)):\n",
    "            \n",
    "        temp = A[0]\n",
    "        A = A[1:]\n",
    "        A = A + temp\n",
    "            \n",
    "        if (A == B):\n",
    "                \n",
    "            return True\n",
    "        \n",
    "    return False\n",
    "\n",
    "print(rotateString('abcde','cdeab'))    \n",
    "print(rotateString('abcde','abced'))    "
   ]
  }
 ],
 "metadata": {
  "kernelspec": {
   "display_name": "Python 3",
   "language": "python",
   "name": "python3"
  },
  "language_info": {
   "codemirror_mode": {
    "name": "ipython",
    "version": 3
   },
   "file_extension": ".py",
   "mimetype": "text/x-python",
   "name": "python",
   "nbconvert_exporter": "python",
   "pygments_lexer": "ipython3",
   "version": "3.7.6"
  }
 },
 "nbformat": 4,
 "nbformat_minor": 4
}
