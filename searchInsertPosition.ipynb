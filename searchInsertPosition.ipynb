{
 "cells": [
  {
   "cell_type": "markdown",
   "metadata": {},
   "source": [
    "# Search insert position"
   ]
  },
  {
   "cell_type": "code",
   "execution_count": 21,
   "metadata": {},
   "outputs": [
    {
     "name": "stdout",
     "output_type": "stream",
     "text": [
      "2\n",
      "1\n",
      "4\n",
      "0\n",
      "0\n",
      "1\n",
      "2\n",
      "3\n"
     ]
    }
   ],
   "source": [
    "def searchInsertPosition(list, target):\n",
    "    \n",
    "    if list == None or target == None:\n",
    "        \n",
    "        return -1\n",
    "    \n",
    "    elif list == []:\n",
    "        \n",
    "        return 0\n",
    "    \n",
    "    start = 0\n",
    "    end = len(list) - 1\n",
    "    \n",
    "    while (start + 1 < end):\n",
    "        \n",
    "        mid = start + (end - start) // 2\n",
    "        \n",
    "        if list[mid] == target:\n",
    "            \n",
    "            return mid\n",
    "        \n",
    "        elif list[mid] > target:\n",
    "            \n",
    "            end = mid\n",
    "            \n",
    "        elif list[mid] < target:\n",
    "            \n",
    "            start = mid\n",
    "   \n",
    "    if list[start] < target and list[end] >= target:\n",
    "        \n",
    "        return start + 1\n",
    "   \n",
    "    elif list[start] >= target:\n",
    "        \n",
    "        return start\n",
    "         \n",
    "    elif list[end] < target:\n",
    "        \n",
    "        return end + 1\n",
    "    \n",
    "    return -1\n",
    "\n",
    "print(searchInsertPosition([1,3,5,6], 5))\n",
    "print(searchInsertPosition([1,3,5,6], 2))\n",
    "print(searchInsertPosition([1,3,5,6], 7))\n",
    "print(searchInsertPosition([1,3,5,6], 0))\n",
    "print(searchInsertPosition([1,3,5,6], 1))\n",
    "print(searchInsertPosition([1,3,5,6], 3))\n",
    "print(searchInsertPosition([1,3,5,6], 4))\n",
    "print(searchInsertPosition([1,3,5,6], 6))"
   ]
  }
 ],
 "metadata": {
  "kernelspec": {
   "display_name": "Python 3",
   "language": "python",
   "name": "python3"
  },
  "language_info": {
   "codemirror_mode": {
    "name": "ipython",
    "version": 3
   },
   "file_extension": ".py",
   "mimetype": "text/x-python",
   "name": "python",
   "nbconvert_exporter": "python",
   "pygments_lexer": "ipython3",
   "version": "3.7.6"
  }
 },
 "nbformat": 4,
 "nbformat_minor": 4
}
