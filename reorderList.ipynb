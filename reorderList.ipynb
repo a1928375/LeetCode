{
 "cells": [
  {
   "cell_type": "markdown",
   "metadata": {},
   "source": [
    "# reorder list"
   ]
  },
  {
   "cell_type": "code",
   "execution_count": 3,
   "metadata": {},
   "outputs": [
    {
     "name": "stdout",
     "output_type": "stream",
     "text": [
      "<__main__.ListNode object at 0x00000215A458CE88>\n"
     ]
    }
   ],
   "source": [
    "class ListNode:\n",
    "    \n",
    "    def __init__(self, val = 0, next = None):\n",
    "        \n",
    "        self.val = val\n",
    "        self.next = next\n",
    "\n",
    "def findMiddle(head):\n",
    "    \n",
    "    slow, fast = head, head.next\n",
    "    \n",
    "    while (fast and fast.next):\n",
    "        \n",
    "        slow = slow.next\n",
    "        fast = fast.next.next\n",
    "        \n",
    "    return slow\n",
    "\n",
    "def reverse(head):\n",
    "    \n",
    "    pre = dummy = None\n",
    "    \n",
    "    while (head):\n",
    "        \n",
    "        temp = head.next\n",
    "        \n",
    "        head.next = pre\n",
    "        \n",
    "        pre = head\n",
    "        \n",
    "        head = temp\n",
    "        \n",
    "    return pre\n",
    "\n",
    "def merge(head1, head2):\n",
    "    \n",
    "    count = 1\n",
    "    \n",
    "    temp = dummy = ListNode(0)\n",
    "    \n",
    "    while (head1 and head2):\n",
    "        \n",
    "        if count % 2 != 0:\n",
    "            \n",
    "            temp.next = head1\n",
    "            head1 = head1.next\n",
    "        \n",
    "        else:\n",
    "            \n",
    "            temp.next = head2\n",
    "            head2 = head2.next\n",
    "        \n",
    "        temp = temp.next\n",
    "        count += 1\n",
    "        \n",
    "    if head1:\n",
    "        \n",
    "        temp.next = head1\n",
    "        \n",
    "    elif head2:\n",
    "        \n",
    "        temp.next = head2\n",
    "        \n",
    "    return dummy.next\n",
    "        \n",
    "def reorderList(head):\n",
    "    \n",
    "    if head == None or head.next == None:\n",
    "        \n",
    "        return head\n",
    "    \n",
    "    middle = findMiddle(head)\n",
    "    \n",
    "    right = reverse(middle.next)\n",
    "    \n",
    "    middle.next = None\n",
    "    \n",
    "    return (merge(head, right))\n",
    "\n",
    "node = ListNode(1)\n",
    "node.next = ListNode(2)\n",
    "node.next.next = ListNode(3)\n",
    "node.next.next.next = ListNode(4)\n",
    "node.next.next.next.next = ListNode(5)\n",
    "\n",
    "print (reorderList(node))"
   ]
  }
 ],
 "metadata": {
  "kernelspec": {
   "display_name": "Python 3",
   "language": "python",
   "name": "python3"
  },
  "language_info": {
   "codemirror_mode": {
    "name": "ipython",
    "version": 3
   },
   "file_extension": ".py",
   "mimetype": "text/x-python",
   "name": "python",
   "nbconvert_exporter": "python",
   "pygments_lexer": "ipython3",
   "version": "3.7.6"
  }
 },
 "nbformat": 4,
 "nbformat_minor": 4
}
