{
 "cells": [
  {
   "cell_type": "markdown",
   "metadata": {},
   "source": [
    "# iterative method"
   ]
  },
  {
   "cell_type": "code",
   "execution_count": 6,
   "metadata": {},
   "outputs": [
    {
     "name": "stdout",
     "output_type": "stream",
     "text": [
      "[4, 2, 5, 1, 6, 3, 7]\n",
      "3.67 µs ± 329 ns per loop (mean ± std. dev. of 7 runs, 100000 loops each)\n"
     ]
    }
   ],
   "source": [
    "class Node:\n",
    "    \n",
    "    def __init__(self,value):\n",
    "        \n",
    "        self.value = value\n",
    "        self.left = None\n",
    "        self.right = None\n",
    "\n",
    "def inOrderIterative(root):\n",
    "    \n",
    "    stack = []\n",
    "    result = []\n",
    "    \n",
    "    if root == None:\n",
    "        \n",
    "        return result\n",
    "    \n",
    "    while(root != None or len(stack) > 0):\n",
    "        \n",
    "        if (root != None):\n",
    "            \n",
    "            stack.append(root)\n",
    "            root = root.left\n",
    "            \n",
    "        else:\n",
    "            \n",
    "            node = stack.pop()\n",
    "            result.append(node.value)   # Add after all left children\n",
    "            root = node.right\n",
    "            \n",
    "    return result\n",
    "\n",
    "root = Node(1)\n",
    "root.left = Node(2)\n",
    "root.right = Node(3)\n",
    "root.left.left = Node(4)\n",
    "root.left.right = Node(5)\n",
    "root.right.left = Node(6)\n",
    "root.right.right = Node(7)\n",
    "\n",
    "print (inOrderIterative(root))\n",
    "\n",
    "%timeit (inOrderIterative(root))"
   ]
  },
  {
   "cell_type": "markdown",
   "metadata": {},
   "source": [
    "# recursive method"
   ]
  },
  {
   "cell_type": "code",
   "execution_count": 3,
   "metadata": {},
   "outputs": [
    {
     "name": "stdout",
     "output_type": "stream",
     "text": [
      "[4, 2, 5, 1, 6, 3, 7]\n",
      "2.35 µs ± 82.9 ns per loop (mean ± std. dev. of 7 runs, 100000 loops each)\n"
     ]
    }
   ],
   "source": [
    "class Node:\n",
    "    \n",
    "    def __init__(self, value):\n",
    "        \n",
    "        self.value = value\n",
    "        self.left = None\n",
    "        self.right = None\n",
    "\n",
    "def inOrder(root):\n",
    "    \n",
    "    if root == None:\n",
    "        \n",
    "        return []\n",
    "    \n",
    "    result = []\n",
    "    \n",
    "    helper(root, result)\n",
    "    \n",
    "    return result\n",
    "\n",
    "def helper(root, result):\n",
    "    \n",
    "    if root == None:\n",
    "        \n",
    "        return \n",
    "    \n",
    "    helper(root.left, result)\n",
    "    \n",
    "    result.append(root.value)\n",
    "    \n",
    "    helper(root.right, result)\n",
    "    \n",
    "root = Node(1)\n",
    "root.left = Node(2)\n",
    "root.right = Node(3)\n",
    "root.left.left = Node(4)\n",
    "root.left.right = Node(5)\n",
    "root.right.left = Node(6)\n",
    "root.right.right = Node(7)\n",
    "\n",
    "print (inOrder(root))\n",
    "\n",
    "%timeit (inOrder(root))"
   ]
  }
 ],
 "metadata": {
  "kernelspec": {
   "display_name": "Python 3",
   "language": "python",
   "name": "python3"
  },
  "language_info": {
   "codemirror_mode": {
    "name": "ipython",
    "version": 3
   },
   "file_extension": ".py",
   "mimetype": "text/x-python",
   "name": "python",
   "nbconvert_exporter": "python",
   "pygments_lexer": "ipython3",
   "version": "3.7.6"
  }
 },
 "nbformat": 4,
 "nbformat_minor": 4
}
