{
 "cells": [
  {
   "cell_type": "markdown",
   "metadata": {},
   "source": [
    "# traverse"
   ]
  },
  {
   "cell_type": "code",
   "execution_count": 1,
   "metadata": {},
   "outputs": [
    {
     "name": "stdout",
     "output_type": "stream",
     "text": [
      "10\n",
      "11\n"
     ]
    }
   ],
   "source": [
    "def traverse(x,y,triangle,sum1):\n",
    "    \n",
    "    if triangle == None or triangle == []:\n",
    "        \n",
    "        return -1\n",
    "    \n",
    "    helper.result = float(\"inf\")\n",
    "    \n",
    "    helper(x,y,triangle,sum1)\n",
    "    \n",
    "    return helper.result\n",
    "    \n",
    "def helper(x,y,triangle, sum1):\n",
    "\n",
    "    if x == len(triangle):\n",
    "    \n",
    "        if sum1 < helper.result:\n",
    "        \n",
    "            helper.result = sum1\n",
    "        \n",
    "        return\n",
    "    \n",
    "    helper(x + 1, y, triangle, triangle[x][y] + sum1)\n",
    "    helper(x + 1, y + 1, triangle, triangle[x][y] + sum1)\n",
    "\n",
    "        \n",
    "print (traverse(0,0,[[2],[3,4],[6,5,7]], 0))\n",
    "print (traverse(0,0,[[2],[3,4],[6,5,7],[4,1,8,3]], 0))"
   ]
  },
  {
   "cell_type": "markdown",
   "metadata": {},
   "source": [
    "# divide and conquer"
   ]
  },
  {
   "cell_type": "code",
   "execution_count": 19,
   "metadata": {},
   "outputs": [
    {
     "name": "stdout",
     "output_type": "stream",
     "text": [
      "10\n"
     ]
    }
   ],
   "source": [
    "def divideConquer(x, y, triangle):\n",
    "    \n",
    "    if x == len(triangle):\n",
    "        \n",
    "        return 0\n",
    "    \n",
    "    return (min(divideConquer(x + 1, y, triangle), \n",
    "                divideConquer(x + 1, y + 1, triangle)) + triangle[x][y])\n",
    "\n",
    "print (divideConquer(0, 0, [[2],[3,4],[6,5,7]]))"
   ]
  },
  {
   "cell_type": "markdown",
   "metadata": {},
   "source": [
    "# devide and conquer with memorization"
   ]
  },
  {
   "cell_type": "code",
   "execution_count": 30,
   "metadata": {},
   "outputs": [
    {
     "name": "stdout",
     "output_type": "stream",
     "text": [
      "10\n",
      "11\n"
     ]
    }
   ],
   "source": [
    "def divideConquerMemorization(triangle):\n",
    "        \n",
    "    return divideConquer(0, 0, triangle, {})\n",
    "\n",
    "def divideConquer(x,y,triangle, hash1):\n",
    "    \n",
    "    if x == len(triangle):\n",
    "        \n",
    "        return 0\n",
    "    \n",
    "    if (x,y) in hash1:\n",
    "        \n",
    "        return hash1[(x,y)]\n",
    "    \n",
    "    hash1[(x,y)] = min(divideConquer(x + 1, y, triangle, hash1), \n",
    "                       divideConquer(x + 1, y + 1, triangle, hash1)) + triangle[x][y]\n",
    "    \n",
    "    return hash1[(x,y)]\n",
    "\n",
    "print (divideConquerMemorization([[2],[3,4],[6,5,7]]))\n",
    "print (divideConquerMemorization([[2],[3,4],[6,5,7],[4,1,8,3]]))"
   ]
  },
  {
   "cell_type": "markdown",
   "metadata": {},
   "source": [
    "# dynamic programming (bottom up)"
   ]
  },
  {
   "cell_type": "code",
   "execution_count": 16,
   "metadata": {},
   "outputs": [
    {
     "name": "stdout",
     "output_type": "stream",
     "text": [
      "10\n"
     ]
    }
   ],
   "source": [
    "def bottomUp(triangle):\n",
    "    \n",
    "    n = len(triangle)\n",
    "    result = [[] for _ in range(n)]\n",
    "\n",
    "    for i in range(len(triangle[-1])):\n",
    "    \n",
    "        result[-1].append(triangle[-1][i])\n",
    "        \n",
    "    for i in range(n-2, -1, -1):\n",
    "        \n",
    "        for j in range(i + 1):\n",
    "            \n",
    "            result[i].append(min(result[i + 1][j], result[i + 1][j + 1]) + triangle[i][j])\n",
    "            \n",
    "    return result[0][0]\n",
    "\n",
    "print (bottomUp([[2],[3,4],[6,5,7]]))"
   ]
  },
  {
   "cell_type": "markdown",
   "metadata": {},
   "source": [
    "# dynamic programming (up bottom)"
   ]
  },
  {
   "cell_type": "code",
   "execution_count": 1,
   "metadata": {},
   "outputs": [
    {
     "name": "stdout",
     "output_type": "stream",
     "text": [
      "10\n"
     ]
    }
   ],
   "source": [
    "def upBottom(triangle):\n",
    "    \n",
    "    n = len(triangle)\n",
    "    result = [[0 for _ in range(n)] for _ in range(n)]\n",
    "    \n",
    "    for i in range(n):\n",
    "        \n",
    "        result[i][0] = result[i - 1][0] + triangle[i][0]\n",
    "        result[i][i] = result[i - 1][i - 1] + triangle[i][i]\n",
    "        \n",
    "    for i in range(1,n):\n",
    "        \n",
    "        for j in range(1,i):\n",
    "            \n",
    "            result[i][j] = min(result[i - 1][j], result[i - 1][j - 1]) + triangle[i][j]\n",
    "            \n",
    "    return min(result[-1])\n",
    "\n",
    "print (upBottom([[2],[3,4],[6,5,7]]))"
   ]
  }
 ],
 "metadata": {
  "kernelspec": {
   "display_name": "Python 3",
   "language": "python",
   "name": "python3"
  },
  "language_info": {
   "codemirror_mode": {
    "name": "ipython",
    "version": 3
   },
   "file_extension": ".py",
   "mimetype": "text/x-python",
   "name": "python",
   "nbconvert_exporter": "python",
   "pygments_lexer": "ipython3",
   "version": "3.7.6"
  }
 },
 "nbformat": 4,
 "nbformat_minor": 4
}
