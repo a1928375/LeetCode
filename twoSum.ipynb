{
 "cells": [
  {
   "cell_type": "markdown",
   "metadata": {},
   "source": [
    "# Brute force"
   ]
  },
  {
   "cell_type": "code",
   "execution_count": 4,
   "metadata": {},
   "outputs": [
    {
     "name": "stdout",
     "output_type": "stream",
     "text": [
      "[0, 1]\n",
      "[2, 3]\n",
      "no match\n"
     ]
    }
   ],
   "source": [
    "def twoSum(nums, target):\n",
    "\n",
    "    if len(nums) == 0:\n",
    "            \n",
    "        return \"nums is empty\"\n",
    "    for i in range(len(nums)):\n",
    "            \n",
    "        for j in range(i+1, len(nums)):\n",
    "                \n",
    "            if nums[i] + nums[j] == target:\n",
    "                    \n",
    "                return [i, j]\n",
    "        \n",
    "    return \"no match\"\n",
    "    \n",
    "print (twoSum([2, 7, 11, 15], 9))\n",
    "\n",
    "print (twoSum([2, 7, 11, 15], 26))\n",
    "\n",
    "print (twoSum([2, 7, 11, 15], 36))"
   ]
  },
  {
   "cell_type": "code",
   "execution_count": null,
   "metadata": {},
   "outputs": [],
   "source": [
    "# Time complexity : O(n^2). For each element, we try to find its complement by looping through the rest of array which takes \n",
    "# O(n)O(n) time. Therefore, the time complexity is O(n^2).\n",
    "\n",
    "# Space complexity : O(1)O(1)."
   ]
  },
  {
   "cell_type": "markdown",
   "metadata": {},
   "source": [
    "# Clever method"
   ]
  },
  {
   "cell_type": "code",
   "execution_count": 5,
   "metadata": {},
   "outputs": [
    {
     "name": "stdout",
     "output_type": "stream",
     "text": [
      "[0, 1]\n",
      "[2, 3]\n",
      "None\n"
     ]
    }
   ],
   "source": [
    "def twoSum(nums, target):\n",
    "    \n",
    "    if len(nums) == 0:\n",
    "        \n",
    "        return \"nums is empty\"\n",
    "        \n",
    "    contain = {}                             # 用dictionary處理\n",
    "        \n",
    "    for i in range(len(nums)):\n",
    "        \n",
    "        if (target - nums[i]) in contain:\n",
    "            \n",
    "            return [contain[target - nums[i]], i]\n",
    "        \n",
    "        contain[nums[i]] = i\n",
    "        \n",
    "print (twoSum([2, 7, 11, 15], 9))\n",
    "\n",
    "print (twoSum([2, 7, 11, 15], 26))\n",
    "\n",
    "print (twoSum([2, 7, 11, 15], 36))"
   ]
  },
  {
   "cell_type": "code",
   "execution_count": null,
   "metadata": {},
   "outputs": [],
   "source": [
    "# Time complexity : O(n). We traverse the list containing nn elements only once. Each look up in the table costs only O(1) time.\n",
    "\n",
    "# Space complexity : O(n). The extra space required depends on the number of items stored in the hash table, which stores at\n",
    "# most n elements."
   ]
  }
 ],
 "metadata": {
  "kernelspec": {
   "display_name": "Python 3",
   "language": "python",
   "name": "python3"
  },
  "language_info": {
   "codemirror_mode": {
    "name": "ipython",
    "version": 3
   },
   "file_extension": ".py",
   "mimetype": "text/x-python",
   "name": "python",
   "nbconvert_exporter": "python",
   "pygments_lexer": "ipython3",
   "version": "3.7.6"
  }
 },
 "nbformat": 4,
 "nbformat_minor": 4
}
