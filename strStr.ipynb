{
 "cells": [
  {
   "cell_type": "markdown",
   "metadata": {},
   "source": [
    "# strStr"
   ]
  },
  {
   "cell_type": "code",
   "execution_count": null,
   "metadata": {},
   "outputs": [],
   "source": [
    "# double pointers \n",
    "# => i  &  j  => deal with   source string   &   target string   seperately "
   ]
  },
  {
   "cell_type": "code",
   "execution_count": 1,
   "metadata": {},
   "outputs": [
    {
     "name": "stdout",
     "output_type": "stream",
     "text": [
      "1\n",
      "-1\n",
      "8\n",
      "-1\n",
      "-1\n",
      "0\n",
      "6\n"
     ]
    }
   ],
   "source": [
    "def strStr(haystack, needle):\n",
    "        \n",
    "    if haystack == None or needle == None or len(haystack) < len(needle):\n",
    "        \n",
    "        return -1\n",
    "    \n",
    "    if haystack == \"\" and needle == \"\":\n",
    "        \n",
    "        return 0\n",
    "    \n",
    "    elif haystack == \"\":\n",
    "        \n",
    "        return -1\n",
    "        \n",
    "    elif needle == \"\":\n",
    "            \n",
    "        return 0\n",
    "    \n",
    "    for i in range(len(haystack)-len(needle) + 1):         # avoid超出  &  要+1\n",
    "        \n",
    "        if haystack[i] == needle[0]:\n",
    "            \n",
    "            for j in range(len(needle)):\n",
    "                \n",
    "                if haystack[i+j] != needle[j]:             # != 才能判斷\n",
    "                    \n",
    "                    break\n",
    "                    \n",
    "                if j == len(needle)-1:\n",
    "                        \n",
    "                    return i\n",
    "        \n",
    "    return -1\n",
    "\n",
    "print (strStr(\"abcdabcdefg\", \"bcd\"))\n",
    "print (strStr(\"abcdabcdefg\", \"aaa\"))\n",
    "print (strStr(\"abcdabcdefg\", \"efg\"))\n",
    "print (strStr(\"aaa\", \"aaaa\"))\n",
    "print (strStr(\"mississippi\", \"issipi\"))\n",
    "print (strStr(\"a\", \"a\"))\n",
    "print (strStr(\"mississippi\", \"sipp\"))"
   ]
  },
  {
   "cell_type": "markdown",
   "metadata": {},
   "source": [
    "# right"
   ]
  },
  {
   "cell_type": "code",
   "execution_count": 3,
   "metadata": {},
   "outputs": [
    {
     "name": "stdout",
     "output_type": "stream",
     "text": [
      "0\n",
      "-1\n",
      "0\n",
      "-1\n",
      "6\n",
      "2\n",
      "-1\n",
      "0\n"
     ]
    }
   ],
   "source": [
    "def strStr(source, target):\n",
    "\n",
    "    if (source == \"\" and target == \"\") or target == \"\":\n",
    "        \n",
    "        return 0\n",
    "    \n",
    "    elif source == None or target == None or source == \"\":\n",
    "        \n",
    "        return -1\n",
    "\n",
    "    for i in range(len(source) - len(target) + 1):      # len(source) - len(target) => for loop 不超出 source => 因為底下有source[i + j]\n",
    "                                                        # + 1 -> 為了 source = \"a\" & target = \"a\"\n",
    "        \n",
    "        if source[i] == target[0]:\n",
    "            \n",
    "            for j in range(len(target)):\n",
    "            \n",
    "                if source[i + j] != target[j]:\n",
    "                \n",
    "                    break\n",
    "\n",
    "                if j == len(target) - 1:\n",
    "            \n",
    "                    return i\n",
    "    \n",
    "    return -1\n",
    "\n",
    "print(strStr(\"\",\"\"))\n",
    "print(strStr(\"\",\"abc\"))\n",
    "print(strStr(\"abc\",\"\"))\n",
    "print(strStr(\"source\",\"target\"))\n",
    "print(strStr(\"abcdabcdefg\",\"cde\"))\n",
    "print(strStr(\"hello\",\"ll\"))\n",
    "print(strStr(\"ab\",\"abc\"))\n",
    "print(strStr(\"a\",\"a\"))"
   ]
  }
 ],
 "metadata": {
  "kernelspec": {
   "display_name": "Python 3",
   "language": "python",
   "name": "python3"
  },
  "language_info": {
   "codemirror_mode": {
    "name": "ipython",
    "version": 3
   },
   "file_extension": ".py",
   "mimetype": "text/x-python",
   "name": "python",
   "nbconvert_exporter": "python",
   "pygments_lexer": "ipython3",
   "version": "3.7.6"
  }
 },
 "nbformat": 4,
 "nbformat_minor": 4
}
