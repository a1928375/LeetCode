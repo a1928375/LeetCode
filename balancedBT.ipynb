{
 "cells": [
  {
   "cell_type": "code",
   "execution_count": 2,
   "metadata": {},
   "outputs": [
    {
     "name": "stdout",
     "output_type": "stream",
     "text": [
      "True\n",
      "False\n"
     ]
    }
   ],
   "source": [
    "class Node:\n",
    "    \n",
    "    def __init__(self, value):\n",
    "        \n",
    "        self.value = value\n",
    "        self.left = None\n",
    "        self.right = None\n",
    "\n",
    "def balancedBT(root):\n",
    "    \n",
    "    if root == None or (root.left == None and root.right == None):\n",
    "        \n",
    "        return True\n",
    "    \n",
    "    return helper(root) != -1\n",
    "\n",
    "def helper(root):\n",
    "    \n",
    "    if root == None:\n",
    "        \n",
    "        return 0\n",
    "    \n",
    "    left = helper(root.left)\n",
    "    right = helper(root.right)\n",
    "    \n",
    "    if (left == -1 or right == -1 or abs(left - right) > 1):\n",
    "        \n",
    "        return -1\n",
    "    \n",
    "    return (max(left, right) + 1)\n",
    "\n",
    "root = Node(1)\n",
    "root.left = Node(2)\n",
    "root.right = Node(3)\n",
    "root.left.left = Node(4)\n",
    "root.left.right = Node(5)\n",
    "root.right.left = Node(6)\n",
    "root.right.right = Node(7)\n",
    "\n",
    "print (balancedBT(root))\n",
    "\n",
    "root = Node(3)\n",
    "root.right = Node(20)\n",
    "root.right.left = Node(15)\n",
    "root.right.right = Node(7)\n",
    "\n",
    "print (balancedBT(root))"
   ]
  }
 ],
 "metadata": {
  "kernelspec": {
   "display_name": "Python 3",
   "language": "python",
   "name": "python3"
  },
  "language_info": {
   "codemirror_mode": {
    "name": "ipython",
    "version": 3
   },
   "file_extension": ".py",
   "mimetype": "text/x-python",
   "name": "python",
   "nbconvert_exporter": "python",
   "pygments_lexer": "ipython3",
   "version": "3.7.6"
  }
 },
 "nbformat": 4,
 "nbformat_minor": 4
}
