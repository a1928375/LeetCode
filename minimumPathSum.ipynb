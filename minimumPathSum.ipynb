{
 "cells": [
  {
   "cell_type": "markdown",
   "metadata": {},
   "source": [
    "# Minimum Path Sum"
   ]
  },
  {
   "cell_type": "code",
   "execution_count": 10,
   "metadata": {},
   "outputs": [
    {
     "name": "stdout",
     "output_type": "stream",
     "text": [
      "7\n",
      "6\n"
     ]
    }
   ],
   "source": [
    "def minimumPathSum(list1):\n",
    "    \n",
    "    if list1 == None or list1 == []:\n",
    "        \n",
    "        return -1\n",
    "    \n",
    "    result = [[0 for _ in range(len(list1[0]))] for _ in range(len(list1))]\n",
    "    \n",
    "    result[0][0] = list1[0][0]\n",
    "    \n",
    "    for i in range(1, len(list1)):\n",
    "        \n",
    "        result[i][0] = result[i - 1][0] + list1[i][0]\n",
    "        \n",
    "    for i in range(1, len(list1[0])):\n",
    "        \n",
    "        result[0][i] = result[0][i - 1] + list1[0][i]\n",
    "        \n",
    "    for i in range(1, len(list1)):\n",
    "        \n",
    "        for j in range(1,len(list1[0])):\n",
    "            \n",
    "            result[i][j] = min(result[i - 1][j], result[i][j - 1]) + list1[i][j]\n",
    "            \n",
    "    return result[-1][-1]\n",
    "\n",
    "print (minimumPathSum([[1,3,1],[1,5,1],[4,2,1]]))\n",
    "print (minimumPathSum([[1,2,5],[3,2,1]]))"
   ]
  }
 ],
 "metadata": {
  "kernelspec": {
   "display_name": "Python 3",
   "language": "python",
   "name": "python3"
  },
  "language_info": {
   "codemirror_mode": {
    "name": "ipython",
    "version": 3
   },
   "file_extension": ".py",
   "mimetype": "text/x-python",
   "name": "python",
   "nbconvert_exporter": "python",
   "pygments_lexer": "ipython3",
   "version": "3.7.6"
  }
 },
 "nbformat": 4,
 "nbformat_minor": 4
}
