{
 "cells": [
  {
   "cell_type": "markdown",
   "metadata": {},
   "source": [
    "# Search for the median of two sorted arrays\n",
    "# O((m + n) / 2)"
   ]
  },
  {
   "cell_type": "code",
   "execution_count": 6,
   "metadata": {},
   "outputs": [
    {
     "name": "stdout",
     "output_type": "stream",
     "text": [
      "3.5\n"
     ]
    }
   ],
   "source": [
    "def medianOfTwoSortedArrays(list1, list2):\n",
    "    \n",
    "    if list1 == None or list2 == None:\n",
    "        \n",
    "        return False\n",
    "    \n",
    "    elif list1 == []:\n",
    "        \n",
    "        if len(list2) % 2 == 0:\n",
    "            \n",
    "            return (list2[len(list2) // 2] + list2[len(list2) // 2 + 1]) / 2\n",
    "        else:\n",
    "            \n",
    "            return list2[len(list2) // 2]\n",
    "        \n",
    "    elif list2 == []:\n",
    "        \n",
    "        if len(list1) % 2 == 0:\n",
    "            \n",
    "            return (list1[len(list1) // 2] + list1[len(list1) // 2 + 1]) / 2\n",
    "        else:\n",
    "            \n",
    "            return list1[len(list1) // 2]\n",
    "    \n",
    "    totalLength = len(list1) + len(list2)\n",
    "\n",
    "    res = []\n",
    "        \n",
    "    i, j = 0, 0\n",
    "        \n",
    "    while (len(res) < totalLength // 2 + 1):\n",
    "        \n",
    "        if i == len(list1) - 1 or j == len(list2) - 1:\n",
    "            \n",
    "            break\n",
    "        \n",
    "        if list1[i] >= list2[j]:\n",
    "            \n",
    "            res.append(list2[j])\n",
    "            j += 1\n",
    "            \n",
    "        elif list1[i] < list2[j]:\n",
    "            \n",
    "            res.append(list1[i])\n",
    "            i += 1    \n",
    "\n",
    "    if (totalLength % 2 == 0):\n",
    "        \n",
    "        return (res[len(res) - 1] + res[len(res) - 2]) / 2\n",
    "    \n",
    "    else:\n",
    "        \n",
    "        return res[len(res) - 2]\n",
    "        \n",
    "\n",
    "print (medianOfTwoSortedArrays([1,2,3,4,5,6], [2,3,4,5]))"
   ]
  },
  {
   "cell_type": "code",
   "execution_count": null,
   "metadata": {},
   "outputs": [],
   "source": []
  }
 ],
 "metadata": {
  "kernelspec": {
   "display_name": "Python 3",
   "language": "python",
   "name": "python3"
  },
  "language_info": {
   "codemirror_mode": {
    "name": "ipython",
    "version": 3
   },
   "file_extension": ".py",
   "mimetype": "text/x-python",
   "name": "python",
   "nbconvert_exporter": "python",
   "pygments_lexer": "ipython3",
   "version": "3.7.6"
  }
 },
 "nbformat": 4,
 "nbformat_minor": 4
}
