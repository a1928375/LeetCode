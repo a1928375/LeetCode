{
 "cells": [
  {
   "cell_type": "markdown",
   "metadata": {},
   "source": [
    "# remove duplicates"
   ]
  },
  {
   "cell_type": "code",
   "execution_count": 7,
   "metadata": {},
   "outputs": [
    {
     "name": "stdout",
     "output_type": "stream",
     "text": [
      "<__main__.ListNode object at 0x000001ECFC121908>\n",
      "<__main__.ListNode object at 0x000001ECFC11BEC8>\n"
     ]
    }
   ],
   "source": [
    "class ListNode:\n",
    "    \n",
    "    def __init__(self, val = 0, next = None):\n",
    "        \n",
    "        self.val = val\n",
    "        self.next= next\n",
    "        \n",
    "def removeDuplicates(head):\n",
    "    \n",
    "    if head == None or head.next == None:     #要先判定head & head.next 是否是none\n",
    "        \n",
    "        return head\n",
    "    \n",
    "    temp = head                               #用temp來代替head來iterate -> 因為用 temp = temp.next，且最後要return head\n",
    "    \n",
    "    while (temp.next):                        # temp.next == None -> last element\n",
    "        \n",
    "        if temp.val == temp.next.val:\n",
    "            \n",
    "            temp.next = temp.next.next\n",
    "            \n",
    "        else:\n",
    "            \n",
    "            temp = temp.next\n",
    "    \n",
    "    return head\n",
    "\n",
    "node = ListNode(1)\n",
    "node.next = ListNode(1)\n",
    "node.next.next = ListNode(2)\n",
    "\n",
    "print (removeDuplicates(node))\n",
    "\n",
    "node = ListNode(1)\n",
    "node.next = ListNode(1)\n",
    "node.next.next = ListNode(2)\n",
    "node.next.next.next = ListNode(3)\n",
    "node.next.next.next.next = ListNode(3)\n",
    "\n",
    "print (removeDuplicates(node))"
   ]
  }
 ],
 "metadata": {
  "kernelspec": {
   "display_name": "Python 3",
   "language": "python",
   "name": "python3"
  },
  "language_info": {
   "codemirror_mode": {
    "name": "ipython",
    "version": 3
   },
   "file_extension": ".py",
   "mimetype": "text/x-python",
   "name": "python",
   "nbconvert_exporter": "python",
   "pygments_lexer": "ipython3",
   "version": "3.7.6"
  }
 },
 "nbformat": 4,
 "nbformat_minor": 4
}
