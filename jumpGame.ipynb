{
 "cells": [
  {
   "cell_type": "markdown",
   "metadata": {},
   "source": [
    "# Jump Game"
   ]
  },
  {
   "cell_type": "code",
   "execution_count": 9,
   "metadata": {},
   "outputs": [
    {
     "name": "stdout",
     "output_type": "stream",
     "text": [
      "True\n",
      "False\n",
      "False\n",
      "True\n"
     ]
    }
   ],
   "source": [
    "def jumpGame(list1):\n",
    "    \n",
    "    if list1 == None or list1 == []:\n",
    "        \n",
    "        return False\n",
    "    \n",
    "    elif len(list1) == 1:\n",
    "        \n",
    "        return True\n",
    "    \n",
    "    # [2,3,1,1,4]\n",
    "    \n",
    "    end = list1[0]\n",
    "    \n",
    "    result = [False for _ in range(len(list1))]\n",
    "    \n",
    "    if list1[0] != 0:\n",
    "        \n",
    "        result[0] = True\n",
    "    \n",
    "    for i in range(1, len(list1)):\n",
    "        \n",
    "        if end >= len(list1) - 1:\n",
    "            \n",
    "            return True\n",
    "        \n",
    "        if result[i - 1] == True:\n",
    "            \n",
    "            end = max(i + list1[i], end)\n",
    "            \n",
    "            if end > i:\n",
    "                \n",
    "                result[i] = True\n",
    "                \n",
    "            else:\n",
    "                \n",
    "                result[i] = False\n",
    "                \n",
    "        else:\n",
    "            \n",
    "            result[i] = False\n",
    "            \n",
    "    return result[-1]\n",
    "\n",
    "print (jumpGame([2,3,1,1,4]))\n",
    "print (jumpGame([3,2,1,0,4]))\n",
    "print (jumpGame([0,1]))\n",
    "print (jumpGame([0]))"
   ]
  },
  {
   "cell_type": "markdown",
   "metadata": {},
   "source": [
    "# Jump Game with Greedy"
   ]
  },
  {
   "cell_type": "code",
   "execution_count": 16,
   "metadata": {},
   "outputs": [
    {
     "name": "stdout",
     "output_type": "stream",
     "text": [
      "True\n",
      "False\n",
      "False\n",
      "True\n",
      "True\n",
      "False\n"
     ]
    }
   ],
   "source": [
    "def jumpGameGreedy(list1):\n",
    "    \n",
    "    if list1 == None or list1 == []:\n",
    "        \n",
    "        return False\n",
    "    \n",
    "    elif len(list1) == 1:\n",
    "        \n",
    "        return True\n",
    "    \n",
    "    end = 0\n",
    "    \n",
    "    for i in range(len(list1) - 1):\n",
    "        \n",
    "        end = max(end, list1[i] + i)\n",
    "        \n",
    "        if end >= len(list1) - 1:\n",
    "            \n",
    "            return True\n",
    "        \n",
    "        if end == i:\n",
    "            \n",
    "            return False\n",
    "        \n",
    "    return False\n",
    "\n",
    "print (jumpGameGreedy([2,3,1,1,4]))\n",
    "print (jumpGameGreedy([3,2,1,0,4]))\n",
    "print (jumpGameGreedy([0,1]))\n",
    "print (jumpGameGreedy([0]))\n",
    "print (jumpGameGreedy([1,2]))\n",
    "print (jumpGameGreedy([0,2,3]))"
   ]
  }
 ],
 "metadata": {
  "kernelspec": {
   "display_name": "Python 3",
   "language": "python",
   "name": "python3"
  },
  "language_info": {
   "codemirror_mode": {
    "name": "ipython",
    "version": 3
   },
   "file_extension": ".py",
   "mimetype": "text/x-python",
   "name": "python",
   "nbconvert_exporter": "python",
   "pygments_lexer": "ipython3",
   "version": "3.7.6"
  }
 },
 "nbformat": 4,
 "nbformat_minor": 4
}
