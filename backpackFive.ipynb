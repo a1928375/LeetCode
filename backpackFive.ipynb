{
 "cells": [
  {
   "cell_type": "markdown",
   "metadata": {},
   "source": [
    "# 2-dimension"
   ]
  },
  {
   "cell_type": "code",
   "execution_count": 4,
   "metadata": {},
   "outputs": [
    {
     "name": "stdout",
     "output_type": "stream",
     "text": [
      "1\n",
      "2\n"
     ]
    }
   ],
   "source": [
    "def backpackFive(total, size):\n",
    "    \n",
    "    #result[i][j]  size的前i個物品 可裝滿j的背包  的 可能性總數  (不重覆)\n",
    "    \n",
    "    if total == 0 or size == []:\n",
    "        \n",
    "        return 0\n",
    "    \n",
    "    result = [[0 for _ in range(total + 1)] for _ in range(len(size) + 1)]\n",
    "    \n",
    "    for i in range(len(size) + 1):                                  #前i個物品 填滿 0 的背包 -> 1種方法  => 不好記 (0較特殊)\n",
    "        \n",
    "        result[i][0] = 1\n",
    "        \n",
    "    for i in range(1, len(size) + 1):\n",
    "        \n",
    "        for j in range(1, total + 1):\n",
    "            \n",
    "            if j < size[i - 1]:                         \n",
    "                \n",
    "                result[i][j] = result[i - 1][j]\n",
    "                \n",
    "            else:\n",
    "                \n",
    "                result[i][j] = result[i - 1][j] + result[i - 1][j - size[i - 1]]     #因為是要找  装满可能性总数 -> 所以加總\n",
    "                \n",
    "    return result[-1][-1]\n",
    "\n",
    "print (backpackFive(6, [1,2,3]))\n",
    "print (backpackFive(7, [1,2,3,3,7]))"
   ]
  },
  {
   "cell_type": "markdown",
   "metadata": {},
   "source": [
    "# 1-dimension"
   ]
  },
  {
   "cell_type": "code",
   "execution_count": 6,
   "metadata": {},
   "outputs": [
    {
     "name": "stdout",
     "output_type": "stream",
     "text": [
      "1\n",
      "2\n"
     ]
    }
   ],
   "source": [
    "def backpackFive1(total, size):\n",
    "    \n",
    "    # result[j] 填滿為j的背包 的 可能總數 (不可重覆)\n",
    "    \n",
    "    if total == 0 or size == []:\n",
    "        \n",
    "        return 0\n",
    "    \n",
    "    result = [0 for _ in range(total + 1)]\n",
    "    \n",
    "    result[0] = 1\n",
    "    \n",
    "    for i in range(1, len(size) + 1):\n",
    "        \n",
    "        for j in range(total, size[i - 1] - 1 ,-1):                #倒著走 -> 越大的越先被updated -> 不可重覆\n",
    "            \n",
    "            if j >= size[i - 1]: \n",
    "                \n",
    "                result[j] = result[j] + result[j - size[i - 1]]    #因為是要找  装满可能性总数 -> 所以加總\n",
    "                \n",
    "    return result[-1]\n",
    "\n",
    "print (backpackFive1(6, [1,2,3]))\n",
    "print (backpackFive1(7, [1,2,3,3,7]))"
   ]
  }
 ],
 "metadata": {
  "kernelspec": {
   "display_name": "Python 3",
   "language": "python",
   "name": "python3"
  },
  "language_info": {
   "codemirror_mode": {
    "name": "ipython",
    "version": 3
   },
   "file_extension": ".py",
   "mimetype": "text/x-python",
   "name": "python",
   "nbconvert_exporter": "python",
   "pygments_lexer": "ipython3",
   "version": "3.7.6"
  }
 },
 "nbformat": 4,
 "nbformat_minor": 4
}
