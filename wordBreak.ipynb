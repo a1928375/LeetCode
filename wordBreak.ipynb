{
 "cells": [
  {
   "cell_type": "markdown",
   "metadata": {},
   "source": [
    "# Word Break"
   ]
  },
  {
   "cell_type": "code",
   "execution_count": 5,
   "metadata": {},
   "outputs": [
    {
     "name": "stdout",
     "output_type": "stream",
     "text": [
      "True\n",
      "True\n"
     ]
    }
   ],
   "source": [
    "def wordBreak(string,dictionary):\n",
    "    \n",
    "    result = [False for _ in range(len(string) + 1)]\n",
    "    \n",
    "    result[0] = True\n",
    "    \n",
    "    for i in range(1,len(string) + 1):\n",
    "        \n",
    "        for j in range(i):\n",
    "            \n",
    "            if result[j] and string[j:i] in dictionary:\n",
    "                \n",
    "                result[i] = True\n",
    "                \n",
    "                break\n",
    "                \n",
    "    return result[-1]\n",
    "\n",
    "print (wordBreak(\"AaBb\", [\"Aa\", \"Bb\"]))\n",
    "print (wordBreak(\"Leetcode\", [\"Leet\", \"code\"]))"
   ]
  }
 ],
 "metadata": {
  "kernelspec": {
   "display_name": "Python 3",
   "language": "python",
   "name": "python3"
  },
  "language_info": {
   "codemirror_mode": {
    "name": "ipython",
    "version": 3
   },
   "file_extension": ".py",
   "mimetype": "text/x-python",
   "name": "python",
   "nbconvert_exporter": "python",
   "pygments_lexer": "ipython3",
   "version": "3.7.6"
  }
 },
 "nbformat": 4,
 "nbformat_minor": 4
}
