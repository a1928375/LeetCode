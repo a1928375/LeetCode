{
 "cells": [
  {
   "cell_type": "code",
   "execution_count": 43,
   "metadata": {},
   "outputs": [
    {
     "name": "stdout",
     "output_type": "stream",
     "text": [
      "None\n",
      "<__main__.Node object at 0x0000029547BBABC8>\n"
     ]
    }
   ],
   "source": [
    "class Node:\n",
    "    \n",
    "    def __init__(self,value):\n",
    "        \n",
    "        self.value = value\n",
    "        self.left = None\n",
    "        self.right = None\n",
    "\n",
    "def searchBST(root, k1):\n",
    "        \n",
    "    if root == None or k1 == None:\n",
    "\n",
    "        return result\n",
    "\n",
    "    def helper(root, k1):\n",
    "    \n",
    "        if root == None:\n",
    "\n",
    "            return None\n",
    "\n",
    "        if root.value < k1:\n",
    "\n",
    "            node = helper(root.right, k1)\n",
    "\n",
    "        elif root.value == k1:\n",
    "\n",
    "            return root\n",
    "\n",
    "        elif root.value > k1:\n",
    "\n",
    "            node = helper(root.left, k1)\n",
    "\n",
    "            return node\n",
    "        \n",
    "    node = helper(root, k1)\n",
    "\n",
    "    return node\n",
    "\n",
    "root = Node(20)\n",
    "root.left = Node(8)\n",
    "root.right = Node(22)\n",
    "root.left.left = Node(4)\n",
    "root.left.right = Node(12)\n",
    "\n",
    "print (searchBST(root, 10))\n",
    "print (searchBST(root, 8))"
   ]
  }
 ],
 "metadata": {
  "kernelspec": {
   "display_name": "Python 3",
   "language": "python",
   "name": "python3"
  },
  "language_info": {
   "codemirror_mode": {
    "name": "ipython",
    "version": 3
   },
   "file_extension": ".py",
   "mimetype": "text/x-python",
   "name": "python",
   "nbconvert_exporter": "python",
   "pygments_lexer": "ipython3",
   "version": "3.7.6"
  }
 },
 "nbformat": 4,
 "nbformat_minor": 4
}
