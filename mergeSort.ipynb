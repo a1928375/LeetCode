{
 "cells": [
  {
   "cell_type": "markdown",
   "metadata": {},
   "source": [
    "# Mine"
   ]
  },
  {
   "cell_type": "code",
   "execution_count": 1,
   "metadata": {},
   "outputs": [
    {
     "name": "stdout",
     "output_type": "stream",
     "text": [
      "[5, 6, 7, 11, 12, 13]\n"
     ]
    }
   ],
   "source": [
    "def mergeSort(list1):\n",
    "    \n",
    "    if list1 == None:\n",
    "        \n",
    "        return -1\n",
    "    \n",
    "    elif list1 == [] or len(list1) == 1:\n",
    "        \n",
    "        return list1\n",
    "    \n",
    "    return helper(list1)\n",
    "\n",
    "def helper(list1):\n",
    "    \n",
    "    if len(list1) == 1:\n",
    "        \n",
    "        return list1\n",
    "    \n",
    "    mid = len(list1) // 2\n",
    "    \n",
    "    left = list1[:mid]\n",
    "    right = list1[mid:]\n",
    "    \n",
    "    helper(left)\n",
    "    helper(right)\n",
    "    \n",
    "    i, j, k = 0,0,0\n",
    "    \n",
    "    while (i < len(left) and j < len(right)):\n",
    "        \n",
    "        if left[i] >= right[j]:\n",
    "            \n",
    "            list1[k] = right[j]\n",
    "            \n",
    "            j += 1\n",
    "            k += 1\n",
    "            \n",
    "        elif left[i] < right[j]:\n",
    "            \n",
    "            list1[k] = left[i]\n",
    "            \n",
    "            i += 1\n",
    "            k += 1\n",
    "            \n",
    "    while(i < len(left)):\n",
    "        \n",
    "        list1[k] = left[i]\n",
    "        \n",
    "        i += 1\n",
    "        k += 1\n",
    "        \n",
    "    while(j < len(right)):\n",
    "        \n",
    "        list1[k] = right[j]\n",
    "        \n",
    "        j += 1\n",
    "        k += 1\n",
    "        \n",
    "    return list1\n",
    "\n",
    "print (mergeSort([12, 11, 13, 5, 6, 7]))"
   ]
  },
  {
   "cell_type": "markdown",
   "metadata": {},
   "source": [
    "# merge sort"
   ]
  },
  {
   "cell_type": "code",
   "execution_count": 2,
   "metadata": {},
   "outputs": [
    {
     "name": "stdout",
     "output_type": "stream",
     "text": [
      "[12, 11, 13, 5, 6, 7]\n",
      "[5, 6, 7, 11, 12, 13]\n"
     ]
    }
   ],
   "source": [
    "def mergeSort1(list):\n",
    "    \n",
    "    if (len(list) > 1):\n",
    "        \n",
    "        mid = len(list) // 2\n",
    "        \n",
    "        left = list[:mid]\n",
    "        right = list[mid:]\n",
    "        \n",
    "        mergeSort1(left)\n",
    "        mergeSort1(right)\n",
    "        \n",
    "        i = j = k = 0\n",
    "        \n",
    "        while i < len(left) and j < len(right):\n",
    "            \n",
    "            if left[i] < right[j]:\n",
    "                \n",
    "                list[k] = left[i]\n",
    "                \n",
    "                i += 1\n",
    "                k += 1\n",
    "                \n",
    "            elif left[i] > right[j]:\n",
    "                \n",
    "                list[k] = right[j]\n",
    "                \n",
    "                j += 1\n",
    "                k += 1\n",
    "                \n",
    "        while i < len(left):\n",
    "            \n",
    "            list[k] = left[i]\n",
    "            \n",
    "            i += 1\n",
    "            k += 1\n",
    "            \n",
    "        while j < len(right):\n",
    "            \n",
    "            list[k] = right[j]\n",
    "                \n",
    "            j += 1\n",
    "            k += 1\n",
    "\n",
    "list = [12, 11, 13, 5, 6, 7]\n",
    "print (list)\n",
    "\n",
    "mergeSort1(list)\n",
    "\n",
    "print(list)"
   ]
  }
 ],
 "metadata": {
  "kernelspec": {
   "display_name": "Python 3",
   "language": "python",
   "name": "python3"
  },
  "language_info": {
   "codemirror_mode": {
    "name": "ipython",
    "version": 3
   },
   "file_extension": ".py",
   "mimetype": "text/x-python",
   "name": "python",
   "nbconvert_exporter": "python",
   "pygments_lexer": "ipython3",
   "version": "3.7.6"
  }
 },
 "nbformat": 4,
 "nbformat_minor": 4
}
