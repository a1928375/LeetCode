{
 "cells": [
  {
   "cell_type": "markdown",
   "metadata": {},
   "source": [
    "# Merge sorted array"
   ]
  },
  {
   "cell_type": "code",
   "execution_count": 27,
   "metadata": {},
   "outputs": [
    {
     "name": "stdout",
     "output_type": "stream",
     "text": [
      "[1, 2, 3, 4, 5]\n",
      "[1, 2, 3]\n",
      "[1, 1, 2, 2, 3, 3]\n",
      "[1, 2, 2, 3, 4, 4, 5, 6]\n",
      "[1, 1, 2, 2, 3, 3]\n",
      "[1, 2, 3, 4, 5]\n",
      "[1, 2, 3, 4, 5]\n",
      "[1, 2, 2, 3, 5, 6]\n",
      "[1]\n"
     ]
    }
   ],
   "source": [
    "def mergeSortedArray (list1, m, list2, n):\n",
    "    \n",
    "    if list1 == None or list2 == None:\n",
    "        \n",
    "        return -1\n",
    "    \n",
    "    i = 0\n",
    "    j = 0\n",
    "    \n",
    "    while (len(list1) > m):\n",
    "    \n",
    "        list1.pop()\n",
    "        \n",
    "    count = len(list1) + len(list2)\n",
    "    \n",
    "    while(i < len(list1) and j < len(list2)):\n",
    "        \n",
    "        if list1[i] >= list2[j]:\n",
    "            \n",
    "            list1.insert(i, list2[j])\n",
    "            i += 1\n",
    "            j += 1\n",
    "            \n",
    "        elif list1[i] < list2[j]:\n",
    "            \n",
    "            i += 1\n",
    "            \n",
    "    while (len(list1) < count):\n",
    "        \n",
    "        list1.append(list2[j])\n",
    "        \n",
    "        j += 1\n",
    "    \n",
    "    return list1\n",
    "\n",
    "print(mergeSortedArray([],0, [1,2,3,4,5],5))\n",
    "print(mergeSortedArray([1,2,3],3, [], 0))\n",
    "print(mergeSortedArray([1,2,3],3, [1,2,3], 3))\n",
    "print(mergeSortedArray([1,2,3,4], 4, [2,4,5,6], 4))\n",
    "print(mergeSortedArray([1,2,3],3, [1,2,3], 3))\n",
    "print(mergeSortedArray([1,2,3],3, [4,5], 2))\n",
    "print(mergeSortedArray([1,2,5],3, [3,4],2))\n",
    "print(mergeSortedArray([1,2,3,0,0,0],3, [2,5,6],3))\n",
    "print(mergeSortedArray([0],0, [1],1))\n"
   ]
  },
  {
   "cell_type": "code",
   "execution_count": null,
   "metadata": {},
   "outputs": [],
   "source": []
  }
 ],
 "metadata": {
  "kernelspec": {
   "display_name": "Python 3",
   "language": "python",
   "name": "python3"
  },
  "language_info": {
   "codemirror_mode": {
    "name": "ipython",
    "version": 3
   },
   "file_extension": ".py",
   "mimetype": "text/x-python",
   "name": "python",
   "nbconvert_exporter": "python",
   "pygments_lexer": "ipython3",
   "version": "3.7.6"
  }
 },
 "nbformat": 4,
 "nbformat_minor": 4
}
