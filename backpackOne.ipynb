{
 "cells": [
  {
   "cell_type": "markdown",
   "metadata": {},
   "source": [
    "# 2-dimension"
   ]
  },
  {
   "cell_type": "code",
   "execution_count": 10,
   "metadata": {},
   "outputs": [
    {
     "name": "stdout",
     "output_type": "stream",
     "text": [
      "3\n",
      "5\n",
      "10\n",
      "12\n",
      "10\n"
     ]
    }
   ],
   "source": [
    "def backpackOne(total, size):\n",
    "    \n",
    "    # result[i][j]表示在 背包最大容量为j時，背包可放入list1中前i個物品的最大允許總重 \n",
    "    \n",
    "    result = [[0 for _ in range(total + 1)] for _ in range(len(size) + 1)]\n",
    "    \n",
    "    for i in range(1, len(size) + 1): \n",
    "    \n",
    "        for j in range(1, total + 1):\n",
    "            \n",
    "            if (j < size[i - 1]):\n",
    "                \n",
    "                result[i][j] = result[i - 1][j]\n",
    "                \n",
    "            else:\n",
    "                \n",
    "                a = result[i - 1][j - size[i - 1]] + size[i - 1]    #放第i件物品 -> 放完第i件物品，再看是否可以放入第(i - 1)件物品 -> \n",
    "                                                                    #往上一層，然後j要把第i件物品的重量扣掉\n",
    "                b = result[i - 1][j]                                #不放第i件物品 -> 直接看上一層 -> as figure\n",
    "                result[i][j] = max(a, b)\n",
    "                \n",
    "    return result[-1][-1]\n",
    "\n",
    "print (backpackOne(3, [1,2]))\n",
    "print (backpackOne(5, [1,2,3]))\n",
    "print (backpackOne(10, [2,3,5,7]))\n",
    "print (backpackOne(12, [2,3,5,7]))\n",
    "print (backpackOne(11, [2,3,5,7]))"
   ]
  },
  {
   "cell_type": "markdown",
   "metadata": {},
   "source": [
    "# 1-dimension"
   ]
  },
  {
   "cell_type": "code",
   "execution_count": 17,
   "metadata": {},
   "outputs": [
    {
     "name": "stdout",
     "output_type": "stream",
     "text": [
      "3\n",
      "5\n"
     ]
    }
   ],
   "source": [
    "def backpackOne1(total, list1):\n",
    "    \n",
    "    # result[j] 为 list1 的前 i个物品填满大小为 j 的背包時的最大允許總重\n",
    "    \n",
    "    if total == 0 or list1 == []:\n",
    "        \n",
    "        return 0\n",
    "    \n",
    "    result = [0 for _ in range(total + 1)]\n",
    "    \n",
    "    for i in range(len(list1)):\n",
    "        \n",
    "        for j in range(total, list1[i] - 1 ,-1):   #倒著走 -> j越小 代表被引用的機會越大 -> 最後update\n",
    "                                                   #j越大 代表被引用的機會越小 -> 最先update\n",
    "            \n",
    "            result[j] = max(result[j], result[j - list1[i]] + list1[i])\n",
    "            \n",
    "    return result[-1]\n",
    "\n",
    "print (backpackOne1(3, [1,2]))\n",
    "print (backpackOne1(5, [1,2,3]))"
   ]
  }
 ],
 "metadata": {
  "kernelspec": {
   "display_name": "Python 3",
   "language": "python",
   "name": "python3"
  },
  "language_info": {
   "codemirror_mode": {
    "name": "ipython",
    "version": 3
   },
   "file_extension": ".py",
   "mimetype": "text/x-python",
   "name": "python",
   "nbconvert_exporter": "python",
   "pygments_lexer": "ipython3",
   "version": "3.7.6"
  }
 },
 "nbformat": 4,
 "nbformat_minor": 4
}
