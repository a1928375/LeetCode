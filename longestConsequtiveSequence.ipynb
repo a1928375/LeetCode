{
 "cells": [
  {
   "cell_type": "markdown",
   "metadata": {},
   "source": [
    "# Longest Consequtive Sequence"
   ]
  },
  {
   "cell_type": "code",
   "execution_count": 9,
   "metadata": {},
   "outputs": [
    {
     "name": "stdout",
     "output_type": "stream",
     "text": [
      "6\n",
      "4\n",
      "3\n",
      "2\n"
     ]
    }
   ],
   "source": [
    "def longestConsequtiveSequence(list1):\n",
    "    \n",
    "    if list1 == None:\n",
    "        \n",
    "        return -1\n",
    "    \n",
    "    elif list1 == []:\n",
    "        \n",
    "        return 0\n",
    "    \n",
    "    elif len(list1) == 1:\n",
    "        \n",
    "        return 1\n",
    "    \n",
    "    list1.sort()\n",
    "    \n",
    "    count, maxCount = 1, 1\n",
    "    \n",
    "    for i in range(1, len(list1)):\n",
    "        \n",
    "        if list1[i] == list1[i - 1] + 1:\n",
    "            \n",
    "            count += 1\n",
    "            \n",
    "        elif list1[i] == list1[i - 1]:\n",
    "            \n",
    "            maxCount = max(maxCount, count)\n",
    "            continue\n",
    "\n",
    "        else:\n",
    "            \n",
    "            maxCount = max(maxCount, count)\n",
    "            count = 1\n",
    "    \n",
    "        if i == len(list1) - 1:\n",
    "            \n",
    "            maxCount = max(maxCount, count)\n",
    "        \n",
    "    return maxCount\n",
    "\n",
    "print (longestConsequtiveSequence([100,4,200,1,3,2, 201, 202, 203, 204, 205]))\n",
    "print (longestConsequtiveSequence([100,4,200,1,3,2]))\n",
    "print (longestConsequtiveSequence([1,2,0,1]))\n",
    "print (longestConsequtiveSequence([0,0,-1]))"
   ]
  }
 ],
 "metadata": {
  "kernelspec": {
   "display_name": "Python 3",
   "language": "python",
   "name": "python3"
  },
  "language_info": {
   "codemirror_mode": {
    "name": "ipython",
    "version": 3
   },
   "file_extension": ".py",
   "mimetype": "text/x-python",
   "name": "python",
   "nbconvert_exporter": "python",
   "pygments_lexer": "ipython3",
   "version": "3.7.6"
  }
 },
 "nbformat": 4,
 "nbformat_minor": 4
}
