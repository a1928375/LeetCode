{
 "cells": [
  {
   "cell_type": "markdown",
   "metadata": {},
   "source": [
    "# Reverse a string"
   ]
  },
  {
   "cell_type": "code",
   "execution_count": 33,
   "metadata": {},
   "outputs": [
    {
     "name": "stdout",
     "output_type": "stream",
     "text": [
      "\n",
      "-1\n",
      "-1\n",
      "-1\n",
      "-1\n",
      "-1\n",
      "edcba\n",
      "adcbe\n",
      "acbde\n"
     ]
    }
   ],
   "source": [
    "def reverse(string, start, end):\n",
    "    \n",
    "    if string == \"\":\n",
    "        \n",
    "        return string\n",
    "    \n",
    "    elif string == None or start < 0 or end < 0 or start > len(string) - 1 or end > len(string) - 1 or end <= start:\n",
    "        \n",
    "        return -1\n",
    "\n",
    "    tempList = []\n",
    "    \n",
    "    for ele in string:\n",
    "        \n",
    "        tempList.append(ele)\n",
    "        \n",
    "    val = (end - start)\n",
    "    \n",
    "    if val % 2 != 0:\n",
    "        \n",
    "        val += 1\n",
    "        \n",
    "    for count in range(val // 2):\n",
    "        \n",
    "        tempList[start], tempList[end] = tempList[end], tempList[start]\n",
    "        \n",
    "        start += 1\n",
    "        end -= 1\n",
    "        \n",
    "    return \"\".join(tempList)\n",
    "        \n",
    "print (reverse(\"\", 0,4))\n",
    "print (reverse(\"abcde\", 0,5))\n",
    "print (reverse(\"abcde\", 10,15))    \n",
    "print (reverse(\"abcde\", -1,15)) \n",
    "print (reverse(\"abcde\", 10,-5))   \n",
    "print (reverse(\"abcde\", 10,1))   \n",
    "  \n",
    "print (reverse(\"abcde\", 0,4))\n",
    "print (reverse(\"abcde\", 1,3))\n",
    "print (reverse(\"abcde\", 1,2))"
   ]
  },
  {
   "cell_type": "markdown",
   "metadata": {},
   "source": [
    "# Rotate a String (in place)"
   ]
  },
  {
   "cell_type": "code",
   "execution_count": 34,
   "metadata": {},
   "outputs": [
    {
     "name": "stdout",
     "output_type": "stream",
     "text": [
      "\n",
      "\n",
      "\n",
      "abcdefg\n",
      "gabcdef\n",
      "fgabcde\n",
      "efgabcd\n"
     ]
    }
   ],
   "source": [
    "def reverse(string, start, end):\n",
    "    \n",
    "    if string == \"\":\n",
    "        \n",
    "        return string\n",
    "    \n",
    "    elif string == None or start < 0 or end < 0 or start > len(string) - 1 or end > len(string) - 1 or end < start:\n",
    "        \n",
    "        return -1\n",
    "\n",
    "    tempList = []\n",
    "    \n",
    "    for ele in string:\n",
    "        \n",
    "        tempList.append(ele)\n",
    "        \n",
    "    val = (end - start)\n",
    "    \n",
    "    if val % 2 != 0:\n",
    "        \n",
    "        val += 1\n",
    "        \n",
    "    for count in range(val // 2):\n",
    "        \n",
    "        tempList[start], tempList[end] = tempList[end], tempList[start]\n",
    "        \n",
    "        start += 1\n",
    "        end -= 1\n",
    "        \n",
    "    return \"\".join(tempList)\n",
    "\n",
    "def rotateString (string, offset):\n",
    "    \n",
    "    if string == \"\" or offset == 0:\n",
    "        \n",
    "        return string\n",
    "    \n",
    "    elif string == None or offset < 0 or offset > len(string) - 1:\n",
    "        \n",
    "         return -1\n",
    "        \n",
    "    res = reverse(string, 0, len(string) - 1)\n",
    "    res = reverse(res, 0, offset - 1)\n",
    "    res = reverse(res, offset, len(res) - 1)\n",
    "\n",
    "    return res\n",
    "    \n",
    "print (rotateString(\"\", 0))\n",
    "print (rotateString(\"\", 5))\n",
    "print (rotateString(\"\", -2))\n",
    "print (rotateString(\"abcdefg\", 0))\n",
    "print (rotateString(\"abcdefg\", 1))\n",
    "print (rotateString(\"abcdefg\", 2))\n",
    "print (rotateString(\"abcdefg\",3))"
   ]
  },
  {
   "cell_type": "markdown",
   "metadata": {},
   "source": [
    "# Rotate a String (not in place)"
   ]
  },
  {
   "cell_type": "code",
   "execution_count": 35,
   "metadata": {},
   "outputs": [
    {
     "name": "stdout",
     "output_type": "stream",
     "text": [
      "\n",
      "-1\n",
      "-1\n",
      "abcdefg\n",
      "gabcdef\n",
      "fgabcde\n",
      "efgabcd\n"
     ]
    }
   ],
   "source": [
    "def rotateString (string, offset):\n",
    "    \n",
    "    if string == \"\":\n",
    "        \n",
    "        return string\n",
    "    \n",
    "    if string == None or offset < 0 or offset > len(string) - 1:\n",
    "        \n",
    "        return -1\n",
    "       \n",
    "    list1 = list(string)\n",
    "    \n",
    "    #[a,b,c,d,e,f,g]\n",
    "    \n",
    "    j = len(string) - offset \n",
    "    \n",
    "    res = []\n",
    "    \n",
    "    for i in range(offset):\n",
    "        \n",
    "        res.append(list1[j])\n",
    "        \n",
    "        j += 1\n",
    "    \n",
    "    if len(res) < len(list1):\n",
    "        \n",
    "        for k in range(len(string) - offset):\n",
    "            \n",
    "            res.append(list1[k])            \n",
    "    \n",
    "    return \"\".join(res)\n",
    "\n",
    "print(rotateString(\"\", 0))\n",
    "print(rotateString(\"abcdefg\", -3))\n",
    "print(rotateString(\"abcdefg\", 10))\n",
    "print(rotateString(\"abcdefg\", 0))\n",
    "print(rotateString(\"abcdefg\", 1))\n",
    "print(rotateString(\"abcdefg\", 2))\n",
    "print(rotateString(\"abcdefg\", 3))"
   ]
  }
 ],
 "metadata": {
  "kernelspec": {
   "display_name": "Python 3",
   "language": "python",
   "name": "python3"
  },
  "language_info": {
   "codemirror_mode": {
    "name": "ipython",
    "version": 3
   },
   "file_extension": ".py",
   "mimetype": "text/x-python",
   "name": "python",
   "nbconvert_exporter": "python",
   "pygments_lexer": "ipython3",
   "version": "3.7.6"
  }
 },
 "nbformat": 4,
 "nbformat_minor": 4
}
