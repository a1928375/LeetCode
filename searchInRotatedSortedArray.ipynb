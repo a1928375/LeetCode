{
 "cells": [
  {
   "cell_type": "markdown",
   "metadata": {},
   "source": [
    "# search in rotated sorted array\n",
    "# wrong -> if-else statements 考慮不夠"
   ]
  },
  {
   "cell_type": "code",
   "execution_count": null,
   "metadata": {},
   "outputs": [
    {
     "name": "stdout",
     "output_type": "stream",
     "text": [
      "-1\n",
      "2\n"
     ]
    }
   ],
   "source": [
    "def searchInRotatedSortedArray(list, target):\n",
    "\n",
    "    if list == None or target == None or list == []:\n",
    "        \n",
    "        return -1\n",
    "    \n",
    "    start = 0\n",
    "    end = len(list) - 1\n",
    "    \n",
    "    while (start + 1 < end):\n",
    "        \n",
    "        mid = start + (end - start) // 2\n",
    "        \n",
    "        if list[mid] == target:\n",
    "            \n",
    "            return mid\n",
    "        \n",
    "        elif list[mid] > list[start]:\n",
    "            \n",
    "            if target > list[start] and list[mid] > target:\n",
    "                \n",
    "                end = mid\n",
    "            \n",
    "            elif target > list[mid]:                   #只判定green line右段 => 沒有判定target可能在red line上的可能性   &&  \n",
    "                                                       #沒有判定target根本不在lines上的可能性 => wrong\n",
    "                                                       #因為不知道 target是在 green line右段   or  red line上   or   根本不在lines上\n",
    "                                                       #直接用else\n",
    "                    \n",
    "                                                       # Ex: list = [4,5,1] & target = 0 -> start = 0, end = 2 and mid = 1\n",
    "                                                       # target 不 > list[start]   也不 > list[mid]     &&     start + 1 < end\n",
    "                                                       # inifinite loop\n",
    "                                                       # in fact, target < list[end] 但不在lines上 => 此寫法wrong\n",
    "                \n",
    "                start = mid       \n",
    "        \n",
    "        elif list[mid] < list[start]:\n",
    "            \n",
    "            if target > list[mid] and list[end] > target:\n",
    "                \n",
    "                start = mid\n",
    "                \n",
    "            elif target < list[mid]:                   #只判定red line左段 => 沒有判定target可能在green line上的可能性   &&  \n",
    "                                                       #沒有判定target根本不在lines上的可能性 => wrong\n",
    "                                                       #因為不知道 target是在 red line左段   or  green line上   or   根本不在lines上\n",
    "                                                       #直接用else\n",
    "                end = mid\n",
    "                \n",
    "    if list[start] == target:\n",
    "            \n",
    "        return start\n",
    "        \n",
    "    elif list[end] == target:\n",
    "            \n",
    "        return end\n",
    "        \n",
    "    return -1\n",
    "    \n",
    "\n",
    "print(searchInRotatedSortedArray([], 1))    \n",
    "print(searchInRotatedSortedArray([4,5,1,2,3], 1))\n",
    "print(searchInRotatedSortedArray([4,5,1,2,3], 0))\n",
    "                 "
   ]
  },
  {
   "cell_type": "markdown",
   "metadata": {},
   "source": [
    "# right"
   ]
  },
  {
   "cell_type": "code",
   "execution_count": 2,
   "metadata": {
    "scrolled": true
   },
   "outputs": [
    {
     "name": "stdout",
     "output_type": "stream",
     "text": [
      "-1\n",
      "2\n",
      "-1\n"
     ]
    }
   ],
   "source": [
    "def searchInRotatedSortedArray (list, target):\n",
    "    \n",
    "    if list == None or target == None or list == []:\n",
    "        \n",
    "        return -1\n",
    "    \n",
    "    start = 0\n",
    "    end = len(list) - 1\n",
    "    \n",
    "    while (start + 1 < end):\n",
    "        \n",
    "        mid = start + (end - start) // 2\n",
    "        \n",
    "        if list[mid] == target:\n",
    "            \n",
    "            return mid\n",
    "        \n",
    "        elif list[mid] > list[start]:\n",
    "            \n",
    "            if target > list[start] and list[mid] > target:\n",
    "                \n",
    "                end = mid\n",
    "            \n",
    "            else: \n",
    "                \n",
    "                start = mid\n",
    "                \n",
    "        \n",
    "        elif list[mid] < list[start]:\n",
    "            \n",
    "            if target > list[mid] and list[end] > target:\n",
    "                \n",
    "                start = mid\n",
    "                \n",
    "            else:\n",
    "                \n",
    "                end = mid\n",
    "                \n",
    "    \n",
    "    if list[start] == target:\n",
    "        \n",
    "        return start\n",
    "    \n",
    "    elif list[end] == target:\n",
    "        \n",
    "        return end\n",
    "    \n",
    "    return -1\n",
    "\n",
    "print(searchInRotatedSortedArray([], 1))    \n",
    "print(searchInRotatedSortedArray([4,5,1,2,3], 1))\n",
    "print(searchInRotatedSortedArray([4,5,1,2,3], 0))"
   ]
  }
 ],
 "metadata": {
  "kernelspec": {
   "display_name": "Python 3",
   "language": "python",
   "name": "python3"
  },
  "language_info": {
   "codemirror_mode": {
    "name": "ipython",
    "version": 3
   },
   "file_extension": ".py",
   "mimetype": "text/x-python",
   "name": "python",
   "nbconvert_exporter": "python",
   "pygments_lexer": "ipython3",
   "version": "3.7.6"
  }
 },
 "nbformat": 4,
 "nbformat_minor": 4
}
