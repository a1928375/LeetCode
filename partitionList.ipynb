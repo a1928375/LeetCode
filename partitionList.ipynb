{
 "cells": [
  {
   "cell_type": "markdown",
   "metadata": {},
   "source": [
    "# partition list"
   ]
  },
  {
   "cell_type": "code",
   "execution_count": 6,
   "metadata": {},
   "outputs": [
    {
     "name": "stdout",
     "output_type": "stream",
     "text": [
      "<__main__.ListNode object at 0x000001DEBF922948>\n"
     ]
    }
   ],
   "source": [
    "class ListNode:\n",
    "    \n",
    "    def __init__(self, val = 0, next = None):\n",
    "        \n",
    "        self.val = val\n",
    "        self.next = next\n",
    "        \n",
    "def partitionList(head, x):\n",
    "    \n",
    "    if head == None or head.next == None or x == None:\n",
    "        \n",
    "        return head\n",
    "    \n",
    "    dummyLeft, dummyRight = ListNode(None), ListNode(None)\n",
    "    \n",
    "    left, right = dummyLeft, dummyRight\n",
    "    \n",
    "    while (head != None):\n",
    "        \n",
    "        if head.val < x:\n",
    "            \n",
    "            left.next = head\n",
    "            left = left.next\n",
    "            \n",
    "        else:\n",
    "            \n",
    "            right.next = head\n",
    "            right = right.next\n",
    "            \n",
    "        head = head.next\n",
    "        \n",
    "    left.next = dummyRight.next\n",
    "    \n",
    "    right.next = None\n",
    "    \n",
    "    return dummyLeft.next\n",
    "\n",
    "node = ListNode(1)\n",
    "node.next = ListNode(4)\n",
    "node.next.next = ListNode(3)\n",
    "node.next.next.next = ListNode(2)\n",
    "node.next.next.next.next = ListNode(5)\n",
    "node.next.next.next.next.next = ListNode(2)\n",
    "\n",
    "print (partitionList(node, 3))"
   ]
  }
 ],
 "metadata": {
  "kernelspec": {
   "display_name": "Python 3",
   "language": "python",
   "name": "python3"
  },
  "language_info": {
   "codemirror_mode": {
    "name": "ipython",
    "version": 3
   },
   "file_extension": ".py",
   "mimetype": "text/x-python",
   "name": "python",
   "nbconvert_exporter": "python",
   "pygments_lexer": "ipython3",
   "version": "3.7.6"
  }
 },
 "nbformat": 4,
 "nbformat_minor": 4
}
