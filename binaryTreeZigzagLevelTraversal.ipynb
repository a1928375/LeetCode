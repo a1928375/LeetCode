{
 "cells": [
  {
   "cell_type": "markdown",
   "metadata": {},
   "source": [
    "# binary tree zigzag level traversal"
   ]
  },
  {
   "cell_type": "code",
   "execution_count": 28,
   "metadata": {},
   "outputs": [
    {
     "name": "stdout",
     "output_type": "stream",
     "text": [
      "[[1], [3, 2], [4, 5, 6, 7]]\n",
      "[[3], [20, 9], [15, 7]]\n"
     ]
    }
   ],
   "source": [
    "from collections import deque\n",
    "\n",
    "class Node:\n",
    "    \n",
    "    def __init__(self, value):\n",
    "        \n",
    "        self.value = value\n",
    "        self.left = None\n",
    "        self.right = None\n",
    "\n",
    "def binaryTreeZigzagLevelTraversal(root):\n",
    "    \n",
    "    if root == None:\n",
    "        \n",
    "        return []\n",
    "    \n",
    "    queue = deque([root])\n",
    "    \n",
    "    result = []\n",
    "    \n",
    "    isForward = True\n",
    "    \n",
    "    while (queue):\n",
    "        \n",
    "        level = []\n",
    "        \n",
    "        for _ in range(len(queue)):\n",
    "            \n",
    "            node = queue.popleft()\n",
    "            \n",
    "            level.append(node.value)\n",
    "            \n",
    "            if (node.left):\n",
    "                \n",
    "                queue.append(node.left)\n",
    "                \n",
    "            if (node.right):\n",
    "                \n",
    "                queue.append(node.right)\n",
    "          \n",
    "        if not isForward:\n",
    "                \n",
    "            level = level[::-1]\n",
    "                \n",
    "        result.append(level)\n",
    "        \n",
    "        isForward = not isForward\n",
    "        \n",
    "    return result\n",
    "            \n",
    "root = Node(1)\n",
    "root.left = Node(2)\n",
    "root.right = Node(3)\n",
    "root.left.left = Node(4)\n",
    "root.left.right = Node(5)\n",
    "root.right.left = Node(6)\n",
    "root.right.right = Node(7)\n",
    "\n",
    "print (BTBST(root))\n",
    "\n",
    "root = Node(3)\n",
    "root.left = Node(9)\n",
    "root.right = Node(20)\n",
    "root.right.left = Node(15)\n",
    "root.right.right = Node(7)\n",
    "\n",
    "print (BTBST(root))"
   ]
  }
 ],
 "metadata": {
  "kernelspec": {
   "display_name": "Python 3",
   "language": "python",
   "name": "python3"
  },
  "language_info": {
   "codemirror_mode": {
    "name": "ipython",
    "version": 3
   },
   "file_extension": ".py",
   "mimetype": "text/x-python",
   "name": "python",
   "nbconvert_exporter": "python",
   "pygments_lexer": "ipython3",
   "version": "3.7.6"
  }
 },
 "nbformat": 4,
 "nbformat_minor": 4
}
