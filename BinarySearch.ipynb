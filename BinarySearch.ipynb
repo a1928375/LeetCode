{
 "cells": [
  {
   "cell_type": "markdown",
   "metadata": {},
   "source": [
    "# First occurrence"
   ]
  },
  {
   "cell_type": "code",
   "execution_count": 6,
   "metadata": {},
   "outputs": [
    {
     "name": "stdout",
     "output_type": "stream",
     "text": [
      "6\n",
      "-1\n",
      "-1\n"
     ]
    }
   ],
   "source": [
    "def binarySearch (list, target):\n",
    "    \n",
    "    if list == None or target == None or len(list) == 0:\n",
    "        \n",
    "        return -1\n",
    "    \n",
    "    start = 0\n",
    "    end = len(list) - 1\n",
    "    \n",
    "    while (start + 1 < end):\n",
    "        \n",
    "        mid = start + (end - start) // 2\n",
    "        \n",
    "        if list[mid] == target:\n",
    "            \n",
    "            end = mid\n",
    "        \n",
    "        elif list[mid] > target:\n",
    "            \n",
    "            end = mid\n",
    "            \n",
    "        elif list[mid] < target:\n",
    "            \n",
    "            start = mid\n",
    "            \n",
    "    if list[start] == target:\n",
    "        \n",
    "        return start\n",
    "    \n",
    "    if list[end] == target:\n",
    "        \n",
    "        return end\n",
    "    \n",
    "    return -1\n",
    "  \n",
    "    \n",
    "print(binarySearch([0,1,2,3,4,5,6,6], 6))\n",
    "print(binarySearch([0,1,2,3,4,5,6,6], 7))\n",
    "print(binarySearch([], 7))"
   ]
  },
  {
   "cell_type": "markdown",
   "metadata": {},
   "source": [
    "# Last occurrence"
   ]
  },
  {
   "cell_type": "code",
   "execution_count": 8,
   "metadata": {},
   "outputs": [
    {
     "name": "stdout",
     "output_type": "stream",
     "text": [
      "7\n",
      "-1\n",
      "-1\n"
     ]
    }
   ],
   "source": [
    "def binarySearch (list, target):\n",
    "    \n",
    "    if list == None or target == None or len(list) == 0:\n",
    "        \n",
    "        return -1\n",
    "    \n",
    "    start = 0\n",
    "    end = len(list) - 1\n",
    "    \n",
    "    while (start + 1 < end):\n",
    "        \n",
    "        mid = start + (end - start) // 2\n",
    "        \n",
    "        if list[mid] == target:\n",
    "            \n",
    "            start = mid\n",
    "        \n",
    "        elif list[mid] > target:\n",
    "            \n",
    "            end = mid\n",
    "            \n",
    "        elif list[mid] < target:\n",
    "            \n",
    "            start = mid\n",
    "          \n",
    "    if list[end] == target:\n",
    "        \n",
    "        return end\n",
    "    \n",
    "    if list[start] == target:\n",
    "        \n",
    "        return start\n",
    "    \n",
    "    return -1\n",
    "  \n",
    "    \n",
    "print(binarySearch([0,1,2,3,4,5,6,6], 6))\n",
    "print(binarySearch([0,1,2,3,4,5,6,6], 7))\n",
    "print(binarySearch([], 7))"
   ]
  },
  {
   "cell_type": "markdown",
   "metadata": {},
   "source": [
    "# Any occurrence"
   ]
  },
  {
   "cell_type": "code",
   "execution_count": 10,
   "metadata": {
    "scrolled": true
   },
   "outputs": [
    {
     "name": "stdout",
     "output_type": "stream",
     "text": [
      "6\n",
      "-1\n",
      "3\n",
      "-1\n"
     ]
    }
   ],
   "source": [
    "def binarySearch (list, target):\n",
    "    \n",
    "    if list == None or target == None or len(list) == 0:\n",
    "        \n",
    "        return -1\n",
    "    \n",
    "    start = 0\n",
    "    end = len(list) - 1\n",
    "    \n",
    "    while (start + 1 < end):\n",
    "        \n",
    "        mid = start + (end - start) // 2\n",
    "        \n",
    "        if list[mid] == target:\n",
    "            \n",
    "            return mid\n",
    "        \n",
    "        elif list[mid] > target:\n",
    "            \n",
    "            end = mid\n",
    "            \n",
    "        elif list[mid] < target:\n",
    "            \n",
    "            start = mid\n",
    "       \n",
    "    if list[start] == target:\n",
    "        \n",
    "        return start\n",
    "    \n",
    "    if list[end] == target:\n",
    "        \n",
    "        return end\n",
    "    \n",
    "    return -1\n",
    "  \n",
    "print(binarySearch([0,1,2,3,4,5,6,6], 6))\n",
    "print(binarySearch([0,1,2,3,4,5,6,6], 7))\n",
    "print(binarySearch([0,1,2,3,4,5,6,6], 3))\n",
    "print(binarySearch([], 7))"
   ]
  },
  {
   "cell_type": "code",
   "execution_count": 15,
   "metadata": {},
   "outputs": [
    {
     "name": "stdout",
     "output_type": "stream",
     "text": [
      "a: 6\n"
     ]
    }
   ],
   "source": [
    "a = 5\n",
    "\n",
    "a+=1\n",
    "\n",
    "print (\"a: \"  + str(a))\n",
    "\n",
    "# print (\"a+=1: \" + a+=1)\n",
    "\n",
    "# # print (\"++a: \" + ++a)"
   ]
  }
 ],
 "metadata": {
  "kernelspec": {
   "display_name": "Python 3",
   "language": "python",
   "name": "python3"
  },
  "language_info": {
   "codemirror_mode": {
    "name": "ipython",
    "version": 3
   },
   "file_extension": ".py",
   "mimetype": "text/x-python",
   "name": "python",
   "nbconvert_exporter": "python",
   "pygments_lexer": "ipython3",
   "version": "3.7.6"
  }
 },
 "nbformat": 4,
 "nbformat_minor": 4
}
