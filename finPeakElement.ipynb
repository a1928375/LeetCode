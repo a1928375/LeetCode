{
 "cells": [
  {
   "cell_type": "markdown",
   "metadata": {},
   "source": [
    "# Find a peak element\n",
    "# list's begining & list's end  are  -Infinity"
   ]
  },
  {
   "cell_type": "code",
   "execution_count": 5,
   "metadata": {},
   "outputs": [
    {
     "name": "stdout",
     "output_type": "stream",
     "text": [
      "-1\n",
      "0\n",
      "1\n",
      "1\n",
      "0\n",
      "6\n",
      "2\n"
     ]
    }
   ],
   "source": [
    "def finPeakElement (list):\n",
    "    \n",
    "    if len(list) == 1:\n",
    "        \n",
    "        return 0\n",
    "        \n",
    "    elif list == None or list == []:\n",
    "            \n",
    "        return -1\n",
    "    \n",
    "    start = 0\n",
    "    end = len(list) - 2             # key point\n",
    "    \n",
    "    while (start + 1 < end):\n",
    "        \n",
    "        mid = start + (end - start) // 2\n",
    "        \n",
    "        if list[mid] > list[mid - 1] and list[mid] > list[mid + 1]:\n",
    "            \n",
    "            return mid\n",
    "        \n",
    "        elif list[mid - 1] > list[mid]:\n",
    "            \n",
    "            end = mid\n",
    "            \n",
    "        elif list[mid - 1] < list[mid]:\n",
    "            \n",
    "            start = mid\n",
    "    \n",
    "    if list[start] > list[start - 1] and list[start] > list[start + 1]:\n",
    "        \n",
    "        return start\n",
    "    \n",
    "    elif list[end] > list[end - 1] and list[end] > list[end + 1]:\n",
    "        \n",
    "        return end\n",
    "    \n",
    "    if list[0] > list[1]:\n",
    "        \n",
    "        return 0\n",
    "    \n",
    "    elif list[len(list)-1] > list[len(list)-2]:\n",
    "        \n",
    "        return len(list)-1\n",
    "    \n",
    "    return -1\n",
    "\n",
    "print (finPeakElement([]))\n",
    "print (finPeakElement([0]))\n",
    "print (finPeakElement([0,1]))\n",
    "print (finPeakElement([1,2]))\n",
    "print (finPeakElement([2,1]))\n",
    "print (finPeakElement([1,2,1,3,4,5,7,6]))\n",
    "print (finPeakElement([1,2,3]))"
   ]
  }
 ],
 "metadata": {
  "kernelspec": {
   "display_name": "Python 3",
   "language": "python",
   "name": "python3"
  },
  "language_info": {
   "codemirror_mode": {
    "name": "ipython",
    "version": 3
   },
   "file_extension": ".py",
   "mimetype": "text/x-python",
   "name": "python",
   "nbconvert_exporter": "python",
   "pygments_lexer": "ipython3",
   "version": "3.7.6"
  }
 },
 "nbformat": 4,
 "nbformat_minor": 4
}
