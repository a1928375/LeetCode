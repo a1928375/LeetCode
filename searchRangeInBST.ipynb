{
 "cells": [
  {
   "cell_type": "markdown",
   "metadata": {},
   "source": [
    "# search range in BST"
   ]
  },
  {
   "cell_type": "code",
   "execution_count": 4,
   "metadata": {},
   "outputs": [
    {
     "name": "stdout",
     "output_type": "stream",
     "text": [
      "[3, 4, 5, 6]\n",
      "[12, 20, 22]\n"
     ]
    }
   ],
   "source": [
    "class Node:\n",
    "    \n",
    "    def __init__(self, value):\n",
    "        \n",
    "        self.value = value\n",
    "        self.left = None\n",
    "        self.right = None\n",
    "\n",
    "def searchRangeInBST(root, low, high):\n",
    "    \n",
    "    if root == None:\n",
    "        \n",
    "        return []\n",
    "    \n",
    "    result = []\n",
    "    \n",
    "    return inOrder(root, low, high, result)\n",
    "\n",
    "def inOrder(root, low, high, result):\n",
    "    \n",
    "    if root == None:\n",
    "        \n",
    "        return\n",
    "    \n",
    "    inOrder(root.left, low, high, result)\n",
    "    \n",
    "    if root.value >= low and root.value <= high:\n",
    "        \n",
    "        result.append(root.value)\n",
    "    \n",
    "    inOrder(root.right, low, high, result)\n",
    "    \n",
    "    return result\n",
    "\n",
    "root = Node(3)\n",
    "root.left = Node(1)\n",
    "root.right = Node(5)\n",
    "root.left.left = Node(0)\n",
    "root.left.right = Node(2)\n",
    "root.right.left = Node(4)\n",
    "root.right.right = Node(6)\n",
    "\n",
    "print (searchRangeInBST(root, 3, 6))\n",
    "\n",
    "root = Node(20)\n",
    "root.left = Node(8)\n",
    "root.right = Node(22)\n",
    "root.left.left = Node(4)\n",
    "root.left.right = Node(12)\n",
    "\n",
    "print (searchRangeInBST(root, 10, 22))"
   ]
  },
  {
   "cell_type": "markdown",
   "metadata": {},
   "source": [
    "# Leetcode version-inOrder (slow)"
   ]
  },
  {
   "cell_type": "code",
   "execution_count": 8,
   "metadata": {},
   "outputs": [
    {
     "name": "stdout",
     "output_type": "stream",
     "text": [
      "62\n",
      "2.21 µs ± 35.1 ns per loop (mean ± std. dev. of 7 runs, 100000 loops each)\n"
     ]
    }
   ],
   "source": [
    "class Node:\n",
    "    \n",
    "    def __init__(self, value):\n",
    "        \n",
    "        self.value = value\n",
    "        self.left = None\n",
    "        self.right = None\n",
    "\n",
    "total = 0                                      \n",
    "\n",
    "def searchRangeInBST1(root, low, high):\n",
    "    \n",
    "    if root == None:\n",
    "        \n",
    "        return []\n",
    "      \n",
    "    def inOrder(root, low, high):\n",
    "        \n",
    "        global total\n",
    "            \n",
    "        if root == None:\n",
    "        \n",
    "            return\n",
    "    \n",
    "        inOrder(root.left, low, high)\n",
    "    \n",
    "        if root.value >= low and root.value <= high:\n",
    "        \n",
    "            total += root.value\n",
    "    \n",
    "        inOrder(root.right, low, high)\n",
    "    \n",
    "        return total\n",
    "    \n",
    "    return inOrder(root, low, high)\n",
    "\n",
    "root = Node(20)\n",
    "root.left = Node(8)\n",
    "root.right = Node(22)\n",
    "root.left.left = Node(4)\n",
    "root.left.right = Node(12)\n",
    "\n",
    "print (searchRangeInBST1(root, 8, 22))\n",
    "\n",
    "%timeit searchRangeInBST1(root, 10, 22)\n",
    "\n",
    "# class Solution:\n",
    "#    \n",
    "#     total = 0\n",
    "#    \n",
    "#     def rangeSumBST(self, root, low, high):\n",
    "#    \n",
    "#         if root == None:\n",
    "#        \n",
    "#             return []\n",
    "#      \n",
    "#         def inOrder(root, low, high):\n",
    "#            \n",
    "#             if root == None:\n",
    "#        \n",
    "#                 return\n",
    "#    \n",
    "#             inOrder(root.left, low, high)\n",
    "#    \n",
    "#             if root.val >= low and root.val <= high:\n",
    "#        \n",
    "#                 self.total += root.val                 # class中的 global variable => 使用 => self.total\n",
    "#    \n",
    "#             inOrder(root.right, low, high)\n",
    "#    \n",
    "#             return self.total\n",
    "#    \n",
    "#         return inOrder(root, low, high)"
   ]
  },
  {
   "cell_type": "markdown",
   "metadata": {},
   "source": [
    "# Leetcode version-inOrder (fast because of selection)"
   ]
  },
  {
   "cell_type": "code",
   "execution_count": 5,
   "metadata": {},
   "outputs": [
    {
     "name": "stdout",
     "output_type": "stream",
     "text": [
      "[12, 20, 22]\n",
      "2.09 µs ± 15.7 ns per loop (mean ± std. dev. of 7 runs, 100000 loops each)\n"
     ]
    }
   ],
   "source": [
    "class Node:\n",
    "    \n",
    "    def __init__(self, value):\n",
    "        \n",
    "        self.value = value\n",
    "        self.left = None\n",
    "        self.right = None\n",
    "\n",
    "def searchRangeInBST2(root, low, high):\n",
    "    \n",
    "    result = []\n",
    "    \n",
    "    if root == None:\n",
    "        \n",
    "        return []\n",
    "    \n",
    "    def helper(root, low, right):\n",
    "        \n",
    "        if root == None:\n",
    "            \n",
    "            return\n",
    "        \n",
    "        if root.value < low:\n",
    "        \n",
    "            helper(root.right, low, high)\n",
    "             \n",
    "        if root.value > high:\n",
    "        \n",
    "            helper(root.left, low, high)    \n",
    "    \n",
    "        if root.value >= low and root.value <= high:\n",
    "        \n",
    "            helper(root.left, low, high)\n",
    "        \n",
    "            result.append(root.value)\n",
    "        \n",
    "            helper(root.right, low, high)\n",
    "            \n",
    "        return result\n",
    "\n",
    "    return helper(root, low, high)    \n",
    "\n",
    "root = Node(20)\n",
    "root.left = Node(8)\n",
    "root.right = Node(22)\n",
    "root.left.left = Node(4)\n",
    "root.left.right = Node(12)\n",
    "\n",
    "print (searchRangeInBST2(root, 10, 22))\n",
    "\n",
    "%timeit searchRangeInBST2(root, 10, 22)"
   ]
  }
 ],
 "metadata": {
  "kernelspec": {
   "display_name": "Python 3",
   "language": "python",
   "name": "python3"
  },
  "language_info": {
   "codemirror_mode": {
    "name": "ipython",
    "version": 3
   },
   "file_extension": ".py",
   "mimetype": "text/x-python",
   "name": "python",
   "nbconvert_exporter": "python",
   "pygments_lexer": "ipython3",
   "version": "3.7.6"
  }
 },
 "nbformat": 4,
 "nbformat_minor": 4
}
