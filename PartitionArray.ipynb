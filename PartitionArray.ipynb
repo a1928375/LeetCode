{
 "cells": [
  {
   "cell_type": "markdown",
   "metadata": {},
   "source": [
    "# Partition"
   ]
  },
  {
   "cell_type": "code",
   "execution_count": 2,
   "metadata": {},
   "outputs": [
    {
     "name": "stdout",
     "output_type": "stream",
     "text": [
      "1\n",
      "4\n",
      "0\n"
     ]
    }
   ],
   "source": [
    "def partition(list, k):\n",
    "    \n",
    "    if list == None or list == []:\n",
    "        \n",
    "        return -1\n",
    "    \n",
    "    i = -1\n",
    "    \n",
    "    for j in range(len(list)):\n",
    "        \n",
    "        if list[j] < k:\n",
    "            \n",
    "            i += 1\n",
    "            \n",
    "            list[i], list[j] = list[j], list[i]\n",
    "            \n",
    "    return i + 1\n",
    "\n",
    "print (partition([3,2,2,1], 2))\n",
    "print (partition([3,2,2,1], 5))\n",
    "print (partition([3,2,2,1], 0))"
   ]
  }
 ],
 "metadata": {
  "kernelspec": {
   "display_name": "Python 3",
   "language": "python",
   "name": "python3"
  },
  "language_info": {
   "codemirror_mode": {
    "name": "ipython",
    "version": 3
   },
   "file_extension": ".py",
   "mimetype": "text/x-python",
   "name": "python",
   "nbconvert_exporter": "python",
   "pygments_lexer": "ipython3",
   "version": "3.7.6"
  }
 },
 "nbformat": 4,
 "nbformat_minor": 4
}
