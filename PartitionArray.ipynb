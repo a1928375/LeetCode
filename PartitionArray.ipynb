{
 "cells": [
  {
   "cell_type": "markdown",
   "metadata": {},
   "source": [
    "# Partition"
   ]
  },
  {
   "cell_type": "code",
   "execution_count": 2,
   "metadata": {},
   "outputs": [
    {
     "name": "stdout",
     "output_type": "stream",
     "text": [
      "1\n",
      "4\n",
      "0\n"
     ]
    }
   ],
   "source": [
    "def partition(list, k):\n",
    "    \n",
    "    if list == None or list == []:\n",
    "        \n",
    "        return -1\n",
    "    \n",
    "    i = -1\n",
    "    \n",
    "    for j in range(len(list)):\n",
    "        \n",
    "        if list[j] < k:\n",
    "            \n",
    "            i += 1\n",
    "            \n",
    "            list[i], list[j] = list[j], list[i]\n",
    "            \n",
    "    return i + 1\n",
    "\n",
    "print (partition([3,2,2,1], 2))\n",
    "print (partition([3,2,2,1], 5))\n",
    "print (partition([3,2,2,1], 0))"
   ]
  },
  {
   "cell_type": "markdown",
   "metadata": {},
   "source": [
    "# Leetcode version"
   ]
  },
  {
   "cell_type": "code",
   "execution_count": 2,
   "metadata": {},
   "outputs": [
    {
     "name": "stdout",
     "output_type": "stream",
     "text": [
      "4\n",
      "101\n"
     ]
    }
   ],
   "source": [
    "def AarrayPartition1(list1):\n",
    "    \n",
    "    list1.sort()\n",
    "    \n",
    "    i, total = 0, 0\n",
    "    \n",
    "    while (i < len(list1)):\n",
    "        \n",
    "        # [1,2,3,4,5,6]\n",
    "        \n",
    "        total += list1[i]\n",
    "        \n",
    "        i += 2\n",
    "        \n",
    "    return total\n",
    "\n",
    "print (AarrayPartition1([1,2,3,4]))\n",
    "print (AarrayPartition1([1,100,3,1000]))"
   ]
  }
 ],
 "metadata": {
  "kernelspec": {
   "display_name": "Python 3",
   "language": "python",
   "name": "python3"
  },
  "language_info": {
   "codemirror_mode": {
    "name": "ipython",
    "version": 3
   },
   "file_extension": ".py",
   "mimetype": "text/x-python",
   "name": "python",
   "nbconvert_exporter": "python",
   "pygments_lexer": "ipython3",
   "version": "3.7.6"
  }
 },
 "nbformat": 4,
 "nbformat_minor": 4
}
