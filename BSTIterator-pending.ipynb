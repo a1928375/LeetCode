{
 "cells": [
  {
   "cell_type": "markdown",
   "metadata": {},
   "source": [
    "# binary search tree iterator"
   ]
  },
  {
   "cell_type": "code",
   "execution_count": 4,
   "metadata": {},
   "outputs": [],
   "source": [
    "class TreeNode:\n",
    "    \n",
    "    def __init__(self, value):\n",
    "        \n",
    "        self.value = value\n",
    "        self.left = None\n",
    "        self.right = None\n",
    "\n",
    "class BSTIterator:\n",
    "\n",
    "    def __init__(self, root):\n",
    "\n",
    "        self.stack = []\n",
    "        \n",
    "        # For a given node, add all the elements in the leftmost branch of the tree under it to the stack.\n",
    "        while root:\n",
    "            \n",
    "            self.stack.append(root)\n",
    "            \n",
    "            root = root.left\n",
    "\n",
    "    def next1(self):\n",
    "        \n",
    "        # return the next smallest number\n",
    "        \n",
    "        topNode = self.stack.pop()\n",
    "\n",
    "        node = topNode.right\n",
    "        \n",
    "        # If the node has a right child, add all left children of right child\n",
    "        while node:\n",
    "            \n",
    "            self.stack.append(node)\n",
    "            \n",
    "            node = node.left\n",
    "               \n",
    "        return topNode.val\n",
    "\n",
    "    def hasNext(self):\n",
    "        \n",
    "        # return whether we have a next smallest number\n",
    "\n",
    "        return len(self.stack) > 0\n",
    "    "
   ]
  }
 ],
 "metadata": {
  "kernelspec": {
   "display_name": "Python 3",
   "language": "python",
   "name": "python3"
  },
  "language_info": {
   "codemirror_mode": {
    "name": "ipython",
    "version": 3
   },
   "file_extension": ".py",
   "mimetype": "text/x-python",
   "name": "python",
   "nbconvert_exporter": "python",
   "pygments_lexer": "ipython3",
   "version": "3.7.6"
  }
 },
 "nbformat": 4,
 "nbformat_minor": 4
}
