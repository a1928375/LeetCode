{
 "cells": [
  {
   "cell_type": "markdown",
   "metadata": {},
   "source": [
    "# Find first bad version"
   ]
  },
  {
   "cell_type": "code",
   "execution_count": 4,
   "metadata": {},
   "outputs": [
    {
     "name": "stdout",
     "output_type": "stream",
     "text": [
      "-1\n",
      "-1\n",
      "No bad version\n",
      "5\n",
      "5\n",
      "5\n"
     ]
    }
   ],
   "source": [
    "def isBadVersion(n):\n",
    "    \n",
    "    if n >= 5:\n",
    "        \n",
    "        return True\n",
    "    \n",
    "    else:\n",
    "        \n",
    "        return False\n",
    "\n",
    "\n",
    "def firstBadVersion(n):\n",
    "    \n",
    "    if n <= 0:\n",
    "        \n",
    "        return -1\n",
    "    \n",
    "    start = 0\n",
    "    end = n\n",
    "    \n",
    "    while (start + 1 < end):\n",
    "        \n",
    "        mid = start + (end - start) // 2\n",
    "        \n",
    "        if isBadVersion(mid):\n",
    "            \n",
    "            end = mid\n",
    "        \n",
    "        elif isBadVersion(mid) == False:\n",
    "            \n",
    "            start = mid\n",
    "            \n",
    "    \n",
    "    if isBadVersion(start):\n",
    "        \n",
    "        return start\n",
    "    \n",
    "    elif isBadVersion(end):\n",
    "        \n",
    "        return end\n",
    "    \n",
    "    return \"No bad version\"\n",
    "\n",
    "print (firstBadVersion(-5))    \n",
    "print (firstBadVersion(0))\n",
    "print (firstBadVersion(3))\n",
    "\n",
    "print (firstBadVersion(6))    \n",
    "print (firstBadVersion(8))\n",
    "print (firstBadVersion(11))"
   ]
  }
 ],
 "metadata": {
  "kernelspec": {
   "display_name": "Python 3",
   "language": "python",
   "name": "python3"
  },
  "language_info": {
   "codemirror_mode": {
    "name": "ipython",
    "version": 3
   },
   "file_extension": ".py",
   "mimetype": "text/x-python",
   "name": "python",
   "nbconvert_exporter": "python",
   "pygments_lexer": "ipython3",
   "version": "3.7.6"
  }
 },
 "nbformat": 4,
 "nbformat_minor": 4
}
