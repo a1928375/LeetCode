{
 "cells": [
  {
   "cell_type": "markdown",
   "metadata": {},
   "source": [
    "# Unique Path"
   ]
  },
  {
   "cell_type": "code",
   "execution_count": 6,
   "metadata": {},
   "outputs": [
    {
     "name": "stdout",
     "output_type": "stream",
     "text": [
      "1\n",
      "6\n",
      "3\n"
     ]
    }
   ],
   "source": [
    "def uniquePaths(m, n):\n",
    "    \n",
    "    if m == None or n == None:\n",
    "        \n",
    "        return -1\n",
    "    \n",
    "    elif m == 1 or n == 1:\n",
    "        \n",
    "        return 1\n",
    "    \n",
    "    result = [[0 for _ in range(m)] for _ in range(n)]\n",
    "    \n",
    "    result[0][0] = 1\n",
    "    \n",
    "    for i in range(1,n):\n",
    "        \n",
    "        result[i][0] = 1\n",
    "    \n",
    "    for j in range(1,m):\n",
    "        \n",
    "        result[0][j] = 1\n",
    "        \n",
    "    for i in range(1, n):\n",
    "        \n",
    "        for j in range(1, m):\n",
    "            \n",
    "            result[i][j] = result[i - 1][j] + result[i][j - 1]\n",
    "            \n",
    "    return result[-1][-1]\n",
    "\n",
    "print (uniquePaths(1, 3))\n",
    "print (uniquePaths(3, 3))\n",
    "print (uniquePaths(3, 2))"
   ]
  }
 ],
 "metadata": {
  "kernelspec": {
   "display_name": "Python 3",
   "language": "python",
   "name": "python3"
  },
  "language_info": {
   "codemirror_mode": {
    "name": "ipython",
    "version": 3
   },
   "file_extension": ".py",
   "mimetype": "text/x-python",
   "name": "python",
   "nbconvert_exporter": "python",
   "pygments_lexer": "ipython3",
   "version": "3.7.6"
  }
 },
 "nbformat": 4,
 "nbformat_minor": 4
}
